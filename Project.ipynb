{
 "cells": [
  {
   "cell_type": "code",
   "execution_count": 1,
   "metadata": {},
   "outputs": [],
   "source": [
    "import os\n",
    "import json\n",
    "\n",
    "import torchtext\n",
    "import torch\n",
    "import pandas as pd\n",
    "\n",
    "import vsm\n",
    "from utils import *\n",
    "\n",
    "%load_ext autoreload\n",
    "%autoreload 2\n",
    "%reload_ext autoreload"
   ]
  },
  {
   "cell_type": "markdown",
   "metadata": {},
   "source": [
    "# Preprocessing\n",
    "Convert dictionary data in JSON format to TSV format so that it can be processed by `torchtext`"
   ]
  },
  {
   "cell_type": "code",
   "execution_count": 2,
   "metadata": {},
   "outputs": [
    {
     "name": "stdout",
     "output_type": "stream",
     "text": [
      "Number of words: 400000\n"
     ]
    }
   ],
   "source": [
    "# Load dictionary dataset\n",
    "data_home = 'data'\n",
    "raw_data_path = os.path.join(data_home, 'glove6B_dictionary.json')\n",
    "data_path = os.path.join(data_home, 'glove6B_dictionary.tsv')\n",
    "\n",
    "with open(raw_data_path) as f:\n",
    "    dictionary = json.load(f)\n",
    "\n",
    "print(\"Number of words:\", len(dictionary.keys()))"
   ]
  },
  {
   "cell_type": "code",
   "execution_count": 3,
   "metadata": {},
   "outputs": [],
   "source": [
    "tabularize_dictionary(raw_data_path, data_path, max_defs=5)"
   ]
  },
  {
   "cell_type": "markdown",
   "metadata": {},
   "source": [
    "# Data Loader\n",
    "We will use `torchtext` library to preprocess and load dataset.\n",
    "First, define `Field`s, that contains information on how you want the data to be preprocessed."
   ]
  },
  {
   "cell_type": "code",
   "execution_count": 3,
   "metadata": {},
   "outputs": [],
   "source": [
    "import spacy\n",
    "\n",
    "spacy_en = spacy.load('en')\n",
    "\n",
    "def tokenizer(text): # create a tokenizer function\n",
    "    return [tok.text for tok in spacy_en.tokenizer(text)]\n",
    "\n",
    "TEXT = torchtext.data.Field(sequential=True,\n",
    "                            tokenize=tokenizer,\n",
    "                            lower=True,\n",
    "                            include_lengths=True)\n",
    "LABEL = torchtext.data.Field(sequential=False,\n",
    "                             lower=True)\n",
    "\n",
    "POS = torchtext.data.Field(sequential=False,\n",
    "                             lower=False)\n",
    "\n",
    "TAG = torchtext.data.Field(sequential=False,\n",
    "                             lower=False)"
   ]
  },
  {
   "cell_type": "code",
   "execution_count": 4,
   "metadata": {},
   "outputs": [],
   "source": [
    "dataset= torchtext.data.TabularDataset(data_path,\n",
    "                                       format='tsv',\n",
    "                                       fields=[('label', LABEL),\n",
    "                                               ('pos', POS),\n",
    "                                               ('tag', TAG),\n",
    "                                               ('text', TEXT)],\n",
    "                                       skip_header=False)"
   ]
  },
  {
   "cell_type": "markdown",
   "metadata": {},
   "source": [
    "Build vocab for each field and load pretrained word vectors"
   ]
  },
  {
   "cell_type": "code",
   "execution_count": 5,
   "metadata": {},
   "outputs": [
    {
     "name": "stdout",
     "output_type": "stream",
     "text": [
      "torch.Size([54621, 100])\n",
      "torch.Size([118045, 100])\n"
     ]
    }
   ],
   "source": [
    "unk_init = lambda x: torch.nn.init.normal_(x, mean=0, std=0.5)\n",
    "TEXT.build_vocab(dataset, vectors=\"glove.6B.100d\", min_freq=2,\n",
    "                 unk_init=unk_init)\n",
    "LABEL.build_vocab(dataset, vectors=\"glove.6B.100d\",\n",
    "                  unk_init=unk_init)\n",
    "POS.build_vocab(dataset)\n",
    "TAG.build_vocab(dataset)\n",
    "\n",
    "print(TEXT.vocab.vectors.size())\n",
    "print(LABEL.vocab.vectors.size())"
   ]
  },
  {
   "cell_type": "markdown",
   "metadata": {},
   "source": [
    "# Train and Test Splits"
   ]
  },
  {
   "cell_type": "code",
   "execution_count": 12,
   "metadata": {},
   "outputs": [
    {
     "name": "stdout",
     "output_type": "stream",
     "text": [
      "Train labels: 118045\n",
      "Test labels: 0\n"
     ]
    }
   ],
   "source": [
    "import random\n",
    "\n",
    "random.seed(0)\n",
    "\n",
    "train_labels = set()\n",
    "test_labels = set()\n",
    "\n",
    "ratio = 1.0\n",
    "\n",
    "for label in LABEL.vocab.stoi.keys():\n",
    "    if label in TEXT.vocab.stoi.keys() or not label.isalpha():\n",
    "        train_labels.add(label)\n",
    "    else:\n",
    "        p = random.random()\n",
    "        if p < ratio:\n",
    "            train_labels.add(label)\n",
    "        else:\n",
    "            test_labels.add(label)\n",
    "        \n",
    "    \n",
    "assert len(train_labels) + len(test_labels) == len(LABEL.vocab.stoi.keys())\n",
    "\n",
    "print(\"Train labels:\", len(train_labels))\n",
    "print(\"Test labels:\", len(test_labels))"
   ]
  },
  {
   "cell_type": "code",
   "execution_count": 177,
   "metadata": {},
   "outputs": [],
   "source": [
    "import csv\n",
    "\n",
    "train_fn = 'glove6B_dictionary_train.tsv'\n",
    "test_fn = 'glove6B_dictionary_test.tsv'\n",
    "\n",
    "train_path = os.path.join(data_home, train_fn)\n",
    "test_path = os.path.join(data_home, test_fn)\n",
    "\n",
    "with open(data_path) as data_file,\\\n",
    "    open(train_path, 'w') as train_file,\\\n",
    "    open(test_path, 'w') as test_file:\n",
    "    \n",
    "    reader = csv.reader(data_file, delimiter='\\t')\n",
    "    train_writer = csv.writer(train_file, delimiter='\\t')\n",
    "    test_writer = csv.writer(test_file, delimiter='\\t')\n",
    "\n",
    "    for row in reader:\n",
    "        label = row[0]\n",
    "        if label in train_labels:\n",
    "            train_writer.writerow(row)\n",
    "        else:\n",
    "            test_writer.writerow(row)"
   ]
  },
  {
   "cell_type": "code",
   "execution_count": 163,
   "metadata": {},
   "outputs": [],
   "source": [
    "train_set, test_set = torchtext.data.TabularDataset.splits(\n",
    "        path=data_home, skip_header=False,\n",
    "        train=train_fn, test=test_fn, format='tsv',\n",
    "        fields=[('label', LABEL), ('pos', POS), ('tag', TAG), ('text', TEXT)])"
   ]
  },
  {
   "cell_type": "code",
   "execution_count": 164,
   "metadata": {},
   "outputs": [],
   "source": [
    "train_iter, test_iter = torchtext.data.Iterator.splits(\n",
    "                                    (train_set, test_set),\n",
    "                                    batch_sizes=(256, 256),\n",
    "                                    shuffle=True,\n",
    "                                    sort_within_batch=True,\n",
    "                                    sort_key=lambda x: len(x.text),\n",
    "                                    repeat=False)"
   ]
  },
  {
   "cell_type": "markdown",
   "metadata": {},
   "source": [
    "# Model"
   ]
  },
  {
   "cell_type": "code",
   "execution_count": 123,
   "metadata": {},
   "outputs": [
    {
     "name": "stdout",
     "output_type": "stream",
     "text": [
      "torch.Size([118038, 100])\n",
      "torch.Size([118038, 100])\n"
     ]
    }
   ],
   "source": [
    "LABEL.build_vocab(train_set, vectors=\"glove.6B.100d\",\n",
    "                  unk_init=unk_init)\n",
    "\n",
    "TEXT.vocab = LABEL.vocab\n",
    "\n",
    "print(TEXT.vocab.vectors.size())\n",
    "print(LABEL.vocab.vectors.size())"
   ]
  },
  {
   "cell_type": "code",
   "execution_count": 55,
   "metadata": {},
   "outputs": [],
   "source": [
    "from models.DictEncoder import DictEncoder\n",
    "import torch.nn as nn\n",
    "\n",
    "max_len = 50\n",
    "n_layers = 1\n",
    "dropout_p = 0.1\n",
    "rnn_cell = 'gru'\n",
    "bidirectional = True\n",
    "train_embedding = True\n",
    "\n",
    "vocab_size, embed_dim = TEXT.vocab.vectors.size()\n",
    "hidden_size = embed_dim\n",
    "pos_size = len(POS.vocab)\n",
    "tag_size = len(TAG.vocab)\n",
    "\n",
    "# Dictionary encoder model\n",
    "model = DictEncoder(vocab_size, pos_size, tag_size, max_len, hidden_size,\n",
    "                    pretrained_embedding=TEXT.vocab.vectors,\n",
    "                    input_dropout_p=dropout_p,\n",
    "                    train_embedding=train_embedding,\n",
    "                    n_layers=n_layers, bidirectional=bidirectional,\n",
    "                    rnn_cell=rnn_cell, variable_lengths=True)\n",
    "\n",
    "\n",
    "# GloVe embedding lookup\n",
    "glove = nn.Embedding(len(LABEL.vocab), embed_dim)\n",
    "glove.weight.data.copy_(LABEL.vocab.vectors)\n",
    "for param in glove.parameters():\n",
    "    param.requires_grad = False\n",
    "        \n",
    "if torch.cuda.is_available:\n",
    "    model = model.cuda()\n",
    "    glove = glove.cuda()"
   ]
  },
  {
   "cell_type": "markdown",
   "metadata": {},
   "source": [
    "# Training"
   ]
  },
  {
   "cell_type": "markdown",
   "metadata": {},
   "source": [
    "Create a dataset iterator."
   ]
  },
  {
   "cell_type": "code",
   "execution_count": 56,
   "metadata": {},
   "outputs": [],
   "source": [
    "def evaluate(model, data_iter):\n",
    "    \"\"\" Compute model's loss on data_iter \"\"\"\n",
    "    model.eval()\n",
    "    val_loss = 0\n",
    "    for data in data_iter:\n",
    "        # Setup data batch\n",
    "        with torch.no_grad():\n",
    "            x, x_lengths = data.text\n",
    "            x = Variable(x.t())\n",
    "            y = Variable(data.label)\n",
    "            pos = Variable(data.pos)\n",
    "            tag = Variable(data.tag)\n",
    "\n",
    "            emb_def = model(x, x_lengths, pos, tag)\n",
    "            emb_word = model.encoder.embedding(y)\n",
    "\n",
    "            val_loss += torch.norm((emb_def - emb_word), dim=1).mean()\n",
    "\n",
    "    val_loss = val_loss / len(data_iter)\n",
    "    return val_loss"
   ]
  },
  {
   "cell_type": "markdown",
   "metadata": {},
   "source": [
    "Training loop"
   ]
  },
  {
   "cell_type": "code",
   "execution_count": null,
   "metadata": {},
   "outputs": [],
   "source": [
    "from torch.autograd import Variable\n",
    "from torch.optim import Adam\n",
    "from torch.optim.lr_scheduler import StepLR\n",
    "\n",
    "do_eval = True\n",
    "lr = 0.001\n",
    "alpha = 1.0 # Regularization strength\n",
    "num_epochs = 30\n",
    "log_step = 500\n",
    "\n",
    "\n",
    "params = list(model.parameters())\n",
    "params_to_train = [param for param in params if param.requires_grad]\n",
    "\n",
    "'''\n",
    "optimizer = torch.optim.Adam([\n",
    "    {'params': model.encoder.embedding.parameters(), 'lr': 1e-4},\n",
    "    {'params': model.encoder.rnn.parameters()},\n",
    "    {'params': model.linear.parameters()},\n",
    "    {'params': model.embed_pos.parameters()},\n",
    "    {'params': model.embed_tag.parameters()}], lr=lr)\n",
    "'''\n",
    "optimizer = torch.optim.Adam(params_to_train, lr=lr)\n",
    "#scheduler = StepLR(optimizer, step_size=3, gamma=0.8)\n",
    "\n",
    "for epoch in range(num_epochs):\n",
    "    model.train()\n",
    "    #scheduler.step()\n",
    "    for i, data in enumerate(train_iter):\n",
    "        # Setup data batch\n",
    "        x, x_lengths = data.text\n",
    "        x = Variable(x.t())\n",
    "        y = Variable(data.label)\n",
    "        pos = Variable(data.pos)\n",
    "        tag = Variable(data.tag)\n",
    "\n",
    "        # Forward\n",
    "        optimizer.zero_grad()\n",
    "\n",
    "        emb_def = model(x, x_lengths, pos, tag)\n",
    "        emb_word = model.encoder.embedding(y)\n",
    "        emb_glove = glove(y)\n",
    "\n",
    "        # Compute loss\n",
    "        loss = torch.norm((emb_def - emb_word), dim=1).mean()\n",
    "        \n",
    "        # Regularization\n",
    "        reg = torch.norm((emb_glove - emb_word), dim=1).mean()\n",
    "        \n",
    "        loss += (alpha * reg)\n",
    "\n",
    "        # Backward\n",
    "        loss.backward()\n",
    "        optimizer.step()\n",
    "\n",
    "        if (i + 1) % log_step == 0:\n",
    "            print(\"Epoch [%d/%d], Batch [%d/%d], Loss: %.4f\"\n",
    "                  % (epoch+1, num_epochs, i+1, len(train_iter), loss))\n",
    "\n",
    "    if do_eval:\n",
    "        print(\"==================================\")\n",
    "        train_loss = evaluate(model, train_iter).data.item()\n",
    "        print(\"Training loss:\", train_loss)\n",
    "        print(\"==================================\")\n"
   ]
  },
  {
   "cell_type": "markdown",
   "metadata": {},
   "source": [
    "# Extracting word embeddings"
   ]
  },
  {
   "cell_type": "markdown",
   "metadata": {},
   "source": [
    "## Learned embedding"
   ]
  },
  {
   "cell_type": "code",
   "execution_count": 124,
   "metadata": {},
   "outputs": [],
   "source": [
    "model.eval()\n",
    "emb_weight = model.encoder.embedding.weight.data.cpu()"
   ]
  },
  {
   "cell_type": "code",
   "execution_count": 125,
   "metadata": {},
   "outputs": [
    {
     "data": {
      "text/plain": [
       "Index(['freaking', 'saints', 'maneuvering', 'broadens', 'taskforce', 'baracoa',\n",
       "       'patinated', 'egghead', 'certificate', 'prosody',\n",
       "       ...\n",
       "       'fauvism', 'islamic', 'liberated', 'un-christian', 'storing',\n",
       "       'vouching', 'catch-up', 'cat-and-mouse', 'freelances', 'hammon'],\n",
       "      dtype='object', length=118038)"
      ]
     },
     "execution_count": 125,
     "metadata": {},
     "output_type": "execute_result"
    }
   ],
   "source": [
    "LABEL.build_vocab(train_set)\n",
    "TEXT.vocab = LABEL.vocab\n",
    "\n",
    "emb_lookup = {}\n",
    "for w in TEXT.vocab.stoi.keys():\n",
    "    emb_lookup[w] = emb_weight[TEXT.vocab.stoi[w]].numpy()\n",
    "    \n",
    "emb_df = pd.DataFrame.from_dict(emb_lookup, 'index')\n",
    "emb_df.index"
   ]
  },
  {
   "cell_type": "code",
   "execution_count": 60,
   "metadata": {},
   "outputs": [
    {
     "data": {
      "text/plain": [
       "eat        0.000000\n",
       "ate        3.103765\n",
       "eating     3.135178\n",
       "eaten      3.178984\n",
       "consume    3.471366\n",
       "meal       3.702084\n",
       "feed       3.755443\n",
       "eats       3.798775\n",
       "food       3.835994\n",
       "drink      3.842367\n",
       "dtype: float64"
      ]
     },
     "execution_count": 60,
     "metadata": {},
     "output_type": "execute_result"
    }
   ],
   "source": [
    "vsm.neighbors('eat', emb_df, distfunc=vsm.euclidean).head(10)"
   ]
  },
  {
   "cell_type": "markdown",
   "metadata": {},
   "source": [
    "## Embeddings for new words"
   ]
  },
  {
   "cell_type": "code",
   "execution_count": 165,
   "metadata": {},
   "outputs": [],
   "source": [
    "def compute_embedding(model, data_iter):\n",
    "#model.load_state_dict(torch.load(model_path))\n",
    "    model.eval()\n",
    "    emb_lookup = defaultdict(list)\n",
    "    for i, data in enumerate(data_iter):\n",
    "        x, x_lengths = data.text\n",
    "        x = Variable(x.t())\n",
    "        y = Variable(data.label)\n",
    "        pos = Variable(data.pos)\n",
    "        tag = Variable(data.tag)\n",
    "\n",
    "        emb_def = model(x, x_lengths, pos, tag)\n",
    "        for j in range(len(emb_def)):\n",
    "            word = LABEL.vocab.itos[y[j].item()]\n",
    "            emb_lookup[word].append(emb_def[j].data.cpu().numpy())\n",
    "\n",
    "    for word in emb_lookup:\n",
    "        emb_lookup[word] = np.mean(emb_lookup[word], axis=0)\n",
    "        \n",
    "    emb_df = pd.DataFrame.from_dict(emb_lookup, 'index')\n",
    "    \n",
    "    return emb_df"
   ]
  },
  {
   "cell_type": "code",
   "execution_count": 166,
   "metadata": {},
   "outputs": [
    {
     "name": "stderr",
     "output_type": "stream",
     "text": [
      "/home/donlee/Stanford/cs224u/project/.env/lib/python3.5/site-packages/torchtext/data/field.py:322: UserWarning: volatile was removed and now has no effect. Use `with torch.no_grad():` instead.\n",
      "  return Variable(arr, volatile=not train)\n",
      "/home/donlee/Stanford/cs224u/project/.env/lib/python3.5/site-packages/torchtext/data/field.py:321: UserWarning: volatile was removed and now has no effect. Use `with torch.no_grad():` instead.\n",
      "  return Variable(arr, volatile=not train), lengths\n"
     ]
    }
   ],
   "source": [
    "LABEL.build_vocab(test_set)\n",
    "new_emb_df = compute_embedding(model, test_iter)"
   ]
  },
  {
   "cell_type": "code",
   "execution_count": 167,
   "metadata": {},
   "outputs": [
    {
     "name": "stdout",
     "output_type": "stream",
     "text": [
      "10 118038\n"
     ]
    }
   ],
   "source": [
    "print(len(LABEL.vocab), len(TEXT.vocab))"
   ]
  },
  {
   "cell_type": "code",
   "execution_count": 168,
   "metadata": {},
   "outputs": [
    {
     "data": {
      "text/plain": [
       "Index(['polysexual', 'lauzon', 'unfriend', 'gaziantep', 'hootch', 'bromance',\n",
       "       'hamza', 'hwan', 'matcha', 'freaking',\n",
       "       ...\n",
       "       'fauvism', 'islamic', 'liberated', 'un-christian', 'storing',\n",
       "       'vouching', 'catch-up', 'cat-and-mouse', 'freelances', 'hammon'],\n",
       "      dtype='object', length=118047)"
      ]
     },
     "execution_count": 168,
     "metadata": {},
     "output_type": "execute_result"
    }
   ],
   "source": [
    "emb_all = pd.concat([new_emb_df, emb_df])\n",
    "emb_all.index"
   ]
  },
  {
   "cell_type": "code",
   "execution_count": 214,
   "metadata": {},
   "outputs": [
    {
     "data": {
      "text/plain": [
       "working    0.000000\n",
       "worked     0.117505\n",
       "work       0.118867\n",
       "well       0.239718\n",
       "doing      0.244455\n",
       "trying     0.249324\n",
       "job        0.266254\n",
       "help       0.271003\n",
       "now        0.273245\n",
       "better     0.273366\n",
       "dtype: float64"
      ]
     },
     "execution_count": 214,
     "metadata": {},
     "output_type": "execute_result"
    }
   ],
   "source": [
    "vsm.neighbors('working', emb_all, distfunc=vsm.cosine).head(10)"
   ]
  },
  {
   "cell_type": "code",
   "execution_count": 215,
   "metadata": {},
   "outputs": [
    {
     "data": {
      "text/plain": [
       "working    0.000000\n",
       "worked     0.116819\n",
       "work       0.122640\n",
       "well       0.241180\n",
       "doing      0.250419\n",
       "trying     0.251308\n",
       "job        0.269225\n",
       "help       0.271538\n",
       "better     0.271646\n",
       "done       0.276110\n",
       "dtype: float64"
      ]
     },
     "execution_count": 215,
     "metadata": {},
     "output_type": "execute_result"
    }
   ],
   "source": [
    "vsm.neighbors('working', glove_df, distfunc=vsm.cosine).head(10)"
   ]
  },
  {
   "cell_type": "markdown",
   "metadata": {},
   "source": [
    "## Baseline word embeddings"
   ]
  },
  {
   "cell_type": "markdown",
   "metadata": {},
   "source": [
    "### Gigaword PPMI"
   ]
  },
  {
   "cell_type": "code",
   "execution_count": 31,
   "metadata": {},
   "outputs": [],
   "source": [
    "giga20 = pd.read_csv(\n",
    "    os.path.join('vsmdata', 'gigaword_window20-flat.csv.gz'), index_col=0)\n",
    "\n",
    "giga20_ppmi = vsm.pmi(giga20)"
   ]
  },
  {
   "cell_type": "code",
   "execution_count": 32,
   "metadata": {},
   "outputs": [
    {
     "data": {
      "text/plain": [
       "eat       0.000000\n",
       "meal     28.318924\n",
       "food     31.797789\n",
       "eats     32.284420\n",
       "drink    32.477807\n",
       "dtype: float64"
      ]
     },
     "execution_count": 32,
     "metadata": {},
     "output_type": "execute_result"
    }
   ],
   "source": [
    "vsm.neighbors('eat', giga20_ppmi, distfunc=vsm.euclidean).head()"
   ]
  },
  {
   "cell_type": "markdown",
   "metadata": {},
   "source": [
    "### IMDB PPMI"
   ]
  },
  {
   "cell_type": "code",
   "execution_count": 33,
   "metadata": {},
   "outputs": [],
   "source": [
    "imdb20 = pd.read_csv(\n",
    "    os.path.join('vsmdata', \"imdb_window20-flat.csv.gz\"), index_col=0)\n",
    "\n",
    "imdb20_ppmi = vsm.pmi(imdb20)"
   ]
  },
  {
   "cell_type": "code",
   "execution_count": 34,
   "metadata": {},
   "outputs": [
    {
     "data": {
      "text/plain": [
       "eat        0.000000\n",
       "eating    30.602471\n",
       "food      35.825917\n",
       "meat      37.316129\n",
       "eats      39.365628\n",
       "dtype: float64"
      ]
     },
     "execution_count": 34,
     "metadata": {},
     "output_type": "execute_result"
    }
   ],
   "source": [
    "vsm.neighbors('eat', imdb20_ppmi, distfunc=vsm.euclidean).head()"
   ]
  },
  {
   "cell_type": "markdown",
   "metadata": {},
   "source": [
    "### GloVe"
   ]
  },
  {
   "cell_type": "code",
   "execution_count": 35,
   "metadata": {},
   "outputs": [],
   "source": [
    "glove_lookup = glove2dict(os.path.join('vsmdata', 'glove.6B.100d.txt'))\n",
    "\n",
    "glove_df = pd.DataFrame.from_dict(glove_lookup, 'index')"
   ]
  },
  {
   "cell_type": "code",
   "execution_count": 36,
   "metadata": {},
   "outputs": [
    {
     "data": {
      "text/plain": [
       "eat        0.000000\n",
       "eating     3.634153\n",
       "ate        3.774174\n",
       "eaten      3.831825\n",
       "consume    4.231454\n",
       "meal       4.556170\n",
       "eats       4.573135\n",
       "feed       4.645383\n",
       "drink      4.683227\n",
       "prefer     4.696516\n",
       "dtype: float64"
      ]
     },
     "execution_count": 36,
     "metadata": {},
     "output_type": "execute_result"
    }
   ],
   "source": [
    "vsm.neighbors('eat', glove_df, distfunc=vsm.euclidean).head(10)"
   ]
  },
  {
   "cell_type": "markdown",
   "metadata": {},
   "source": [
    "# Experiments"
   ]
  },
  {
   "cell_type": "markdown",
   "metadata": {},
   "source": [
    "## 1. Word Similarity"
   ]
  },
  {
   "cell_type": "code",
   "execution_count": 77,
   "metadata": {},
   "outputs": [],
   "source": [
    "from word_sim import *"
   ]
  },
  {
   "cell_type": "markdown",
   "metadata": {},
   "source": [
    "### Baselines"
   ]
  },
  {
   "cell_type": "code",
   "execution_count": 78,
   "metadata": {},
   "outputs": [
    {
     "name": "stdout",
     "output_type": "stream",
     "text": [
      "========================================\n",
      "wordsim353_reader\n",
      "Evaluation vocab: 418 of 437\n",
      "Spearman r: 0.469\n",
      "========================================\n",
      "mturk287_reader\n",
      "Evaluation vocab: 499 of 499\n",
      "Spearman r: 0.599\n",
      "========================================\n",
      "mturk771_reader\n",
      "Evaluation vocab: 1,113 of 1,113\n",
      "Spearman r: 0.462\n",
      "========================================\n",
      "men_reader\n",
      "Evaluation vocab: 751 of 751\n",
      "Spearman r: 0.572\n",
      "========================================\n",
      "Mean Spearman r: 0.525\n"
     ]
    },
    {
     "data": {
      "text/plain": [
       "{'men_reader': 0.5724487594295152,\n",
       " 'mturk287_reader': 0.5986597600532505,\n",
       " 'mturk771_reader': 0.4615212813179131,\n",
       " 'wordsim353_reader': 0.46888766456156583}"
      ]
     },
     "execution_count": 78,
     "metadata": {},
     "output_type": "execute_result"
    }
   ],
   "source": [
    "full_word_similarity_evaluation(imdb20_ppmi, verbose=True)"
   ]
  },
  {
   "cell_type": "code",
   "execution_count": 79,
   "metadata": {},
   "outputs": [
    {
     "name": "stdout",
     "output_type": "stream",
     "text": [
      "========================================\n",
      "wordsim353_reader\n",
      "Evaluation vocab: 418 of 437\n",
      "Spearman r: 0.575\n",
      "========================================\n",
      "mturk287_reader\n",
      "Evaluation vocab: 499 of 499\n",
      "Spearman r: 0.662\n",
      "========================================\n",
      "mturk771_reader\n",
      "Evaluation vocab: 1,113 of 1,113\n",
      "Spearman r: 0.509\n",
      "========================================\n",
      "men_reader\n",
      "Evaluation vocab: 751 of 751\n",
      "Spearman r: 0.642\n",
      "========================================\n",
      "Mean Spearman r: 0.597\n"
     ]
    },
    {
     "data": {
      "text/plain": [
       "{'men_reader': 0.6417502972889049,\n",
       " 'mturk287_reader': 0.6617722569937702,\n",
       " 'mturk771_reader': 0.5091371613882787,\n",
       " 'wordsim353_reader': 0.5746437768533685}"
      ]
     },
     "execution_count": 79,
     "metadata": {},
     "output_type": "execute_result"
    }
   ],
   "source": [
    "full_word_similarity_evaluation(giga20_ppmi, verbose=True)"
   ]
  },
  {
   "cell_type": "code",
   "execution_count": 80,
   "metadata": {},
   "outputs": [
    {
     "name": "stdout",
     "output_type": "stream",
     "text": [
      "========================================\n",
      "wordsim353_reader\n",
      "Evaluation vocab: 416 of 437\n",
      "Spearman r: 0.528\n",
      "========================================\n",
      "mturk287_reader\n",
      "Evaluation vocab: 499 of 499\n",
      "Spearman r: 0.619\n",
      "========================================\n",
      "mturk771_reader\n",
      "Evaluation vocab: 1,113 of 1,113\n",
      "Spearman r: 0.581\n",
      "========================================\n",
      "men_reader\n",
      "Evaluation vocab: 751 of 751\n",
      "Spearman r: 0.693\n",
      "========================================\n",
      "Mean Spearman r: 0.605\n"
     ]
    },
    {
     "data": {
      "text/plain": [
       "{'men_reader': 0.6931865411595562,\n",
       " 'mturk287_reader': 0.6193399527127166,\n",
       " 'mturk771_reader': 0.5805168561442647,\n",
       " 'wordsim353_reader': 0.5275901831851209}"
      ]
     },
     "execution_count": 80,
     "metadata": {},
     "output_type": "execute_result"
    }
   ],
   "source": [
    "full_word_similarity_evaluation(glove_df, verbose=True)"
   ]
  },
  {
   "cell_type": "markdown",
   "metadata": {},
   "source": [
    "### Ours"
   ]
  },
  {
   "cell_type": "code",
   "execution_count": 81,
   "metadata": {},
   "outputs": [
    {
     "name": "stdout",
     "output_type": "stream",
     "text": [
      "========================================\n",
      "wordsim353_reader\n",
      "Evaluation vocab: 413 of 437\n",
      "Spearman r: 0.558\n",
      "========================================\n",
      "mturk287_reader\n",
      "Evaluation vocab: 488 of 499\n",
      "Spearman r: 0.650\n",
      "========================================\n",
      "mturk771_reader\n",
      "Evaluation vocab: 1,106 of 1,113\n",
      "Spearman r: 0.612\n",
      "========================================\n",
      "men_reader\n",
      "Evaluation vocab: 747 of 751\n",
      "Spearman r: 0.719\n",
      "========================================\n",
      "Mean Spearman r: 0.635\n"
     ]
    },
    {
     "data": {
      "text/plain": [
       "{'men_reader': 0.7187011596033591,\n",
       " 'mturk287_reader': 0.6501970831559337,\n",
       " 'mturk771_reader': 0.6118669648598645,\n",
       " 'wordsim353_reader': 0.5581769646501574}"
      ]
     },
     "execution_count": 81,
     "metadata": {},
     "output_type": "execute_result"
    }
   ],
   "source": [
    "full_word_similarity_evaluation(emb_df, verbose=True)"
   ]
  },
  {
   "cell_type": "code",
   "execution_count": 95,
   "metadata": {},
   "outputs": [
    {
     "name": "stdout",
     "output_type": "stream",
     "text": [
      "========================================\n",
      "wordsim353_reader\n",
      "Evaluation vocab: 416 of 437\n",
      "Spearman r: 0.557\n",
      "========================================\n",
      "mturk287_reader\n",
      "Evaluation vocab: 492 of 499\n",
      "Spearman r: 0.643\n",
      "========================================\n",
      "mturk771_reader\n",
      "Evaluation vocab: 1,110 of 1,113\n",
      "Spearman r: 0.614\n",
      "========================================\n",
      "men_reader\n",
      "Evaluation vocab: 751 of 751\n",
      "Spearman r: 0.714\n",
      "========================================\n",
      "Mean Spearman r: 0.632\n"
     ]
    },
    {
     "data": {
      "text/plain": [
       "{'men_reader': 0.7140169843882098,\n",
       " 'mturk287_reader': 0.6430348815003137,\n",
       " 'mturk771_reader': 0.6138828986132021,\n",
       " 'wordsim353_reader': 0.5572153263297986}"
      ]
     },
     "execution_count": 95,
     "metadata": {},
     "output_type": "execute_result"
    }
   ],
   "source": [
    "full_word_similarity_evaluation(emb_all, verbose=True)"
   ]
  },
  {
   "cell_type": "markdown",
   "metadata": {},
   "source": [
    "## 2. Word Analogy"
   ]
  },
  {
   "cell_type": "code",
   "execution_count": 95,
   "metadata": {},
   "outputs": [],
   "source": [
    "from word_analogy import *"
   ]
  },
  {
   "cell_type": "code",
   "execution_count": 96,
   "metadata": {},
   "outputs": [
    {
     "data": {
      "text/plain": [
       "terrible    0.296863\n",
       "huge        0.320579\n",
       "big         0.333326\n",
       "worst       0.334916\n",
       "caused      0.360995\n",
       "dtype: float64"
      ]
     },
     "execution_count": 96,
     "metadata": {},
     "output_type": "execute_result"
    }
   ],
   "source": [
    "x = analogy_completion(\"presiden\", \"great\", \"bad\", emb_df)\n",
    "x.head()"
   ]
  },
  {
   "cell_type": "code",
   "execution_count": 97,
   "metadata": {},
   "outputs": [
    {
     "data": {
      "text/plain": [
       "terrible    0.296863\n",
       "huge        0.320579\n",
       "big         0.333326\n",
       "worst       0.334916\n",
       "caused      0.360995\n",
       "dtype: float64"
      ]
     },
     "execution_count": 97,
     "metadata": {},
     "output_type": "execute_result"
    }
   ],
   "source": [
    "x = analogy_completion(\"good\", \"great\", \"bad\", emb_all)\n",
    "x.head()"
   ]
  },
  {
   "cell_type": "markdown",
   "metadata": {},
   "source": [
    "### IMDB20"
   ]
  },
  {
   "cell_type": "code",
   "execution_count": 99,
   "metadata": {},
   "outputs": [
    {
     "data": {
      "text/plain": [
       "(0.5446665665352782, defaultdict(int, {False: 297, True: 209}))"
      ]
     },
     "execution_count": 99,
     "metadata": {},
     "output_type": "execute_result"
    }
   ],
   "source": [
    "analogy_evaluation(imdb20_ppmi, src_filename='family.txt', verbose=False)"
   ]
  },
  {
   "cell_type": "code",
   "execution_count": 100,
   "metadata": {},
   "outputs": [
    {
     "data": {
      "text/plain": [
       "(0.14621311421118469, defaultdict(int, {False: 904, True: 88}))"
      ]
     },
     "execution_count": 100,
     "metadata": {},
     "output_type": "execute_result"
    }
   ],
   "source": [
    "analogy_evaluation(imdb20_ppmi, src_filename='gram1-adjective-to-adverb.txt', verbose=False)"
   ]
  },
  {
   "cell_type": "code",
   "execution_count": 101,
   "metadata": {},
   "outputs": [
    {
     "data": {
      "text/plain": [
       "(0.11918977012507004, defaultdict(int, {False: 756, True: 56}))"
      ]
     },
     "execution_count": 101,
     "metadata": {},
     "output_type": "execute_result"
    }
   ],
   "source": [
    "analogy_evaluation(imdb20_ppmi, src_filename='gram2-opposite.txt', verbose=False)"
   ]
  },
  {
   "cell_type": "code",
   "execution_count": 102,
   "metadata": {},
   "outputs": [
    {
     "data": {
      "text/plain": [
       "(0.4214983178751905, defaultdict(int, {False: 968, True: 364}))"
      ]
     },
     "execution_count": 102,
     "metadata": {},
     "output_type": "execute_result"
    }
   ],
   "source": [
    "analogy_evaluation(imdb20_ppmi, src_filename='gram3-comparative.txt', verbose=False)"
   ]
  },
  {
   "cell_type": "code",
   "execution_count": 103,
   "metadata": {},
   "outputs": [
    {
     "data": {
      "text/plain": [
       "(0.4218615748000484, defaultdict(int, {False: 713, True: 343}))"
      ]
     },
     "execution_count": 103,
     "metadata": {},
     "output_type": "execute_result"
    }
   ],
   "source": [
    "analogy_evaluation(imdb20_ppmi, src_filename='gram5-present-participle.txt', verbose=False)"
   ]
  },
  {
   "cell_type": "code",
   "execution_count": 104,
   "metadata": {},
   "outputs": [
    {
     "data": {
      "text/plain": [
       "(0.6575181494624674, defaultdict(int, {False: 609, True: 723}))"
      ]
     },
     "execution_count": 104,
     "metadata": {},
     "output_type": "execute_result"
    }
   ],
   "source": [
    "analogy_evaluation(imdb20_ppmi, src_filename='gram8-plural.txt', verbose=False)"
   ]
  },
  {
   "cell_type": "code",
   "execution_count": 105,
   "metadata": {},
   "outputs": [
    {
     "data": {
      "text/plain": [
       "(0.4578007178981834, defaultdict(int, {False: 2066, True: 1224}))"
      ]
     },
     "execution_count": 105,
     "metadata": {},
     "output_type": "execute_result"
    }
   ],
   "source": [
    "analogy_evaluation(imdb20_ppmi, src_filename='capital-world.txt', verbose=False)"
   ]
  },
  {
   "cell_type": "markdown",
   "metadata": {},
   "source": [
    "### GIGA20"
   ]
  },
  {
   "cell_type": "code",
   "execution_count": 106,
   "metadata": {
    "scrolled": true
   },
   "outputs": [
    {
     "data": {
      "text/plain": [
       "(0.6659846219739627, defaultdict(int, {False: 227, True: 279}))"
      ]
     },
     "execution_count": 106,
     "metadata": {},
     "output_type": "execute_result"
    }
   ],
   "source": [
    "analogy_evaluation(giga20_ppmi, src_filename='family.txt', verbose=False)"
   ]
  },
  {
   "cell_type": "code",
   "execution_count": 107,
   "metadata": {},
   "outputs": [
    {
     "data": {
      "text/plain": [
       "(0.21077301283042899, defaultdict(int, {False: 859, True: 133}))"
      ]
     },
     "execution_count": 107,
     "metadata": {},
     "output_type": "execute_result"
    }
   ],
   "source": [
    "analogy_evaluation(giga20_ppmi, src_filename='gram1-adjective-to-adverb.txt', verbose=False)"
   ]
  },
  {
   "cell_type": "code",
   "execution_count": 108,
   "metadata": {},
   "outputs": [
    {
     "data": {
      "text/plain": [
       "(0.28054148855931976, defaultdict(int, {False: 645, True: 167}))"
      ]
     },
     "execution_count": 108,
     "metadata": {},
     "output_type": "execute_result"
    }
   ],
   "source": [
    "analogy_evaluation(giga20_ppmi, src_filename='gram2-opposite.txt', verbose=False)"
   ]
  },
  {
   "cell_type": "code",
   "execution_count": 109,
   "metadata": {},
   "outputs": [
    {
     "data": {
      "text/plain": [
       "(0.5692569712312698, defaultdict(int, {False: 726, True: 606}))"
      ]
     },
     "execution_count": 109,
     "metadata": {},
     "output_type": "execute_result"
    }
   ],
   "source": [
    "analogy_evaluation(giga20_ppmi, src_filename='gram3-comparative.txt', verbose=False)"
   ]
  },
  {
   "cell_type": "code",
   "execution_count": 110,
   "metadata": {},
   "outputs": [
    {
     "data": {
      "text/plain": [
       "(0.6402012538987079, defaultdict(int, {False: 456, True: 600}))"
      ]
     },
     "execution_count": 110,
     "metadata": {},
     "output_type": "execute_result"
    }
   ],
   "source": [
    "analogy_evaluation(giga20_ppmi, src_filename='gram5-present-participle.txt', verbose=False)"
   ]
  },
  {
   "cell_type": "code",
   "execution_count": 111,
   "metadata": {},
   "outputs": [
    {
     "data": {
      "text/plain": [
       "(0.6682194201629682, defaultdict(int, {False: 549, True: 783}))"
      ]
     },
     "execution_count": 111,
     "metadata": {},
     "output_type": "execute_result"
    }
   ],
   "source": [
    "analogy_evaluation(giga20_ppmi, src_filename='gram8-plural.txt', verbose=False)"
   ]
  },
  {
   "cell_type": "code",
   "execution_count": 112,
   "metadata": {},
   "outputs": [
    {
     "data": {
      "text/plain": [
       "(0.7390063846387628, defaultdict(int, {False: 1471, True: 3053}))"
      ]
     },
     "execution_count": 112,
     "metadata": {},
     "output_type": "execute_result"
    }
   ],
   "source": [
    "analogy_evaluation(giga20_ppmi, src_filename='capital-world.txt', verbose=False)"
   ]
  },
  {
   "cell_type": "markdown",
   "metadata": {},
   "source": [
    "### Glove"
   ]
  },
  {
   "cell_type": "code",
   "execution_count": 256,
   "metadata": {
    "scrolled": true
   },
   "outputs": [
    {
     "name": "stderr",
     "output_type": "stream",
     "text": [
      "/home/donlee/Stanford/cs224u/project/.env/lib/python3.5/site-packages/ipykernel_launcher.py:1: FutureWarning: \n",
      "Passing list-likes to .loc or [] with any missing label will raise\n",
      "KeyError in the future, you can use .reindex() as an alternative.\n",
      "\n",
      "See the documentation here:\n",
      "https://pandas.pydata.org/pandas-docs/stable/indexing.html#deprecate-loc-reindex-listlike\n",
      "  \"\"\"Entry point for launching an IPython kernel.\n"
     ]
    },
    {
     "name": "stdout",
     "output_type": "stream",
     "text": [
      "boy is to girl as brother is to daughter (gold: sister at rank 6)\n",
      "boy is to girl as brothers is to sisters (gold: sisters at rank 1)\n",
      "boy is to girl as dad is to mom (gold: mom at rank 1)\n",
      "boy is to girl as father is to mother (gold: mother at rank 1)\n",
      "boy is to girl as grandfather is to grandmother (gold: grandmother at rank 1)\n",
      "boy is to girl as grandpa is to grandma (gold: grandma at rank 1)\n",
      "boy is to girl as grandson is to granddaughter (gold: granddaughter at rank 1)\n",
      "boy is to girl as groom is to bride (gold: bride at rank 1)\n",
      "boy is to girl as he is to she (gold: she at rank 1)\n",
      "boy is to girl as his is to her (gold: her at rank 1)\n",
      "boy is to girl as husband is to wife (gold: wife at rank 1)\n",
      "boy is to girl as king is to queen (gold: queen at rank 1)\n",
      "boy is to girl as man is to woman (gold: woman at rank 1)\n",
      "boy is to girl as nephew is to niece (gold: niece at rank 1)\n",
      "boy is to girl as policeman is to soldier (gold: policewoman at rank 5)\n",
      "boy is to girl as prince is to princess (gold: princess at rank 1)\n",
      "boy is to girl as son is to daughter (gold: daughter at rank 1)\n",
      "boy is to girl as sons is to daughters (gold: daughters at rank 1)\n",
      "boy is to girl as stepbrother is to stepsister (gold: stepsister at rank 1)\n",
      "boy is to girl as stepfather is to stepmother (gold: stepmother at rank 1)\n",
      "boy is to girl as stepson is to stepdaughter (gold: stepdaughter at rank 1)\n",
      "boy is to girl as uncle is to aunt (gold: aunt at rank 1)\n",
      "brother is to sister as brothers is to sisters (gold: sisters at rank 1)\n",
      "brother is to sister as dad is to mom (gold: mom at rank 1)\n",
      "brother is to sister as father is to mother (gold: mother at rank 1)\n",
      "brother is to sister as grandfather is to grandmother (gold: grandmother at rank 1)\n",
      "brother is to sister as grandpa is to grandma (gold: grandma at rank 1)\n",
      "brother is to sister as grandson is to granddaughter (gold: granddaughter at rank 1)\n",
      "brother is to sister as groom is to bride (gold: bride at rank 1)\n",
      "brother is to sister as he is to she (gold: she at rank 1)\n",
      "brother is to sister as his is to her (gold: her at rank 1)\n",
      "brother is to sister as husband is to mother (gold: wife at rank 2)\n",
      "brother is to sister as king is to queen (gold: queen at rank 1)\n",
      "brother is to sister as man is to woman (gold: woman at rank 1)\n",
      "brother is to sister as nephew is to niece (gold: niece at rank 1)\n",
      "brother is to sister as policeman is to woman (gold: policewoman at rank 6)\n",
      "brother is to sister as prince is to princess (gold: princess at rank 1)\n",
      "brother is to sister as son is to daughter (gold: daughter at rank 1)\n",
      "brother is to sister as sons is to daughters (gold: daughters at rank 1)\n",
      "brother is to sister as stepbrother is to stepsister (gold: stepsister at rank 1)\n",
      "brother is to sister as stepfather is to stepdaughter (gold: stepmother at rank 3)\n",
      "brother is to sister as stepson is to stepdaughter (gold: stepdaughter at rank 1)\n",
      "brother is to sister as uncle is to aunt (gold: aunt at rank 1)\n",
      "brother is to sister as boy is to girl (gold: girl at rank 1)\n",
      "brothers is to sisters as dad is to mom (gold: mom at rank 1)\n",
      "brothers is to sisters as father is to mother (gold: mother at rank 1)\n",
      "brothers is to sisters as grandfather is to grandmother (gold: grandmother at rank 1)\n",
      "brothers is to sisters as grandpa is to grandma (gold: grandma at rank 1)\n",
      "brothers is to sisters as grandson is to niece (gold: granddaughter at rank 2)\n",
      "brothers is to sisters as groom is to bride (gold: bride at rank 1)\n",
      "brothers is to sisters as he is to she (gold: she at rank 1)\n",
      "brothers is to sisters as his is to her (gold: her at rank 1)\n",
      "brothers is to sisters as husband is to wife (gold: wife at rank 1)\n",
      "brothers is to sisters as king is to queen (gold: queen at rank 1)\n",
      "brothers is to sisters as man is to woman (gold: woman at rank 1)\n",
      "brothers is to sisters as nephew is to niece (gold: niece at rank 1)\n",
      "brothers is to sisters as policeman is to woman (gold: policewoman at rank 4)\n",
      "brothers is to sisters as prince is to princess (gold: princess at rank 1)\n",
      "brothers is to sisters as son is to daughter (gold: daughter at rank 1)\n",
      "brothers is to sisters as sons is to daughters (gold: daughters at rank 1)\n",
      "brothers is to sisters as stepbrother is to stepsister (gold: stepsister at rank 1)\n",
      "brothers is to sisters as stepfather is to stepdaughter (gold: stepmother at rank 2)\n",
      "brothers is to sisters as stepson is to stepdaughter (gold: stepdaughter at rank 1)\n",
      "brothers is to sisters as uncle is to aunt (gold: aunt at rank 1)\n",
      "brothers is to sisters as boy is to girl (gold: girl at rank 1)\n",
      "brothers is to sisters as brother is to daughter (gold: sister at rank 3)\n",
      "dad is to mom as father is to mother (gold: mother at rank 1)\n",
      "dad is to mom as grandfather is to grandmother (gold: grandmother at rank 1)\n",
      "dad is to mom as grandpa is to grandma (gold: grandma at rank 1)\n",
      "dad is to mom as grandson is to granddaughter (gold: granddaughter at rank 1)\n",
      "dad is to mom as groom is to bride (gold: bride at rank 1)\n",
      "dad is to mom as he is to she (gold: she at rank 1)\n",
      "dad is to mom as his is to her (gold: her at rank 1)\n",
      "dad is to mom as husband is to wife (gold: wife at rank 1)\n",
      "dad is to mom as king is to queen (gold: queen at rank 1)\n",
      "dad is to mom as man is to woman (gold: woman at rank 1)\n",
      "dad is to mom as nephew is to niece (gold: niece at rank 1)\n",
      "dad is to mom as policeman is to wounded (gold: policewoman at rank 9)\n",
      "dad is to mom as prince is to princess (gold: princess at rank 1)\n",
      "dad is to mom as son is to daughter (gold: daughter at rank 1)\n",
      "dad is to mom as sons is to daughters (gold: daughters at rank 1)\n",
      "dad is to mom as stepbrother is to stepsister (gold: stepsister at rank 1)\n",
      "dad is to mom as stepfather is to stepdaughter (gold: stepmother at rank 3)\n",
      "dad is to mom as stepson is to stepdaughter (gold: stepdaughter at rank 1)\n",
      "dad is to mom as uncle is to aunt (gold: aunt at rank 1)\n",
      "dad is to mom as boy is to girl (gold: girl at rank 1)\n",
      "dad is to mom as brother is to daughter (gold: sister at rank 3)\n",
      "dad is to mom as brothers is to sisters (gold: sisters at rank 1)\n",
      "father is to mother as grandfather is to grandmother (gold: grandmother at rank 1)\n",
      "father is to mother as grandpa is to grandma (gold: grandma at rank 1)\n",
      "father is to mother as grandson is to granddaughter (gold: granddaughter at rank 1)\n",
      "father is to mother as groom is to bride (gold: bride at rank 1)\n",
      "father is to mother as he is to she (gold: she at rank 1)\n",
      "father is to mother as his is to her (gold: her at rank 1)\n",
      "father is to mother as husband is to wife (gold: wife at rank 1)\n",
      "father is to mother as king is to queen (gold: queen at rank 1)\n",
      "father is to mother as man is to woman (gold: woman at rank 1)\n",
      "father is to mother as nephew is to niece (gold: niece at rank 1)\n",
      "father is to mother as policeman is to wounded (gold: policewoman at rank 5)\n",
      "father is to mother as prince is to princess (gold: princess at rank 1)\n",
      "father is to mother as son is to daughter (gold: daughter at rank 1)\n",
      "father is to mother as sons is to daughters (gold: daughters at rank 1)\n",
      "father is to mother as stepbrother is to stepsister (gold: stepsister at rank 1)\n",
      "father is to mother as stepfather is to stepdaughter (gold: stepmother at rank 2)\n",
      "father is to mother as stepson is to stepdaughter (gold: stepdaughter at rank 1)\n",
      "father is to mother as uncle is to aunt (gold: aunt at rank 1)\n",
      "father is to mother as boy is to girl (gold: girl at rank 1)\n",
      "father is to mother as brother is to daughter (gold: sister at rank 3)\n",
      "father is to mother as brothers is to sisters (gold: sisters at rank 1)\n",
      "father is to mother as dad is to mom (gold: mom at rank 1)\n",
      "grandfather is to grandmother as grandpa is to grandma (gold: grandma at rank 1)\n",
      "grandfather is to grandmother as grandson is to granddaughter (gold: granddaughter at rank 1)\n",
      "grandfather is to grandmother as groom is to bride (gold: bride at rank 1)\n",
      "grandfather is to grandmother as he is to she (gold: she at rank 1)\n",
      "grandfather is to grandmother as his is to her (gold: her at rank 1)\n",
      "grandfather is to grandmother as husband is to wife (gold: wife at rank 1)\n",
      "grandfather is to grandmother as king is to queen (gold: queen at rank 1)\n",
      "grandfather is to grandmother as man is to woman (gold: woman at rank 1)\n",
      "grandfather is to grandmother as nephew is to niece (gold: niece at rank 1)\n"
     ]
    },
    {
     "name": "stdout",
     "output_type": "stream",
     "text": [
      "grandfather is to grandmother as policeman is to wounded (gold: policewoman at rank 7)\n",
      "grandfather is to grandmother as prince is to princess (gold: princess at rank 1)\n",
      "grandfather is to grandmother as son is to daughter (gold: daughter at rank 1)\n",
      "grandfather is to grandmother as sons is to daughters (gold: daughters at rank 1)\n",
      "grandfather is to grandmother as stepbrother is to stepsister (gold: stepsister at rank 1)\n",
      "grandfather is to grandmother as stepfather is to stepdaughter (gold: stepmother at rank 2)\n",
      "grandfather is to grandmother as stepson is to stepdaughter (gold: stepdaughter at rank 1)\n",
      "grandfather is to grandmother as uncle is to aunt (gold: aunt at rank 1)\n",
      "grandfather is to grandmother as boy is to girl (gold: girl at rank 1)\n",
      "grandfather is to grandmother as brother is to wife (gold: sister at rank 4)\n",
      "grandfather is to grandmother as brothers is to sisters (gold: sisters at rank 1)\n",
      "grandfather is to grandmother as dad is to mom (gold: mom at rank 1)\n",
      "grandfather is to grandmother as father is to mother (gold: mother at rank 1)\n",
      "grandpa is to grandma as grandson is to grandfather (gold: granddaughter at rank 2)\n",
      "grandpa is to grandma as groom is to bride (gold: bride at rank 1)\n",
      "grandpa is to grandma as he is to she (gold: she at rank 1)\n",
      "grandpa is to grandma as his is to her (gold: her at rank 1)\n",
      "grandpa is to grandma as husband is to wife (gold: wife at rank 1)\n",
      "grandpa is to grandma as king is to queen (gold: queen at rank 1)\n",
      "grandpa is to grandma as man is to woman (gold: woman at rank 1)\n",
      "grandpa is to grandma as nephew is to cousin (gold: niece at rank 2)\n",
      "grandpa is to grandma as policeman is to police (gold: policewoman at rank 27)\n",
      "grandpa is to grandma as prince is to princess (gold: princess at rank 1)\n",
      "grandpa is to grandma as son is to father (gold: daughter at rank 2)\n",
      "grandpa is to grandma as sons is to daughters (gold: daughters at rank 1)\n",
      "grandpa is to grandma as stepbrother is to stepdaughter (gold: stepsister at rank 2)\n",
      "grandpa is to grandma as stepfather is to grandmother (gold: stepmother at rank 3)\n",
      "grandpa is to grandma as stepson is to stepdaughter (gold: stepdaughter at rank 1)\n",
      "grandpa is to grandma as uncle is to grandmother (gold: aunt at rank 3)\n",
      "grandpa is to grandma as boy is to girl (gold: girl at rank 1)\n",
      "grandpa is to grandma as brother is to father (gold: sister at rank 10)\n",
      "grandpa is to grandma as brothers is to sons (gold: sisters at rank 2)\n",
      "grandpa is to grandma as dad is to mom (gold: mom at rank 1)\n",
      "grandpa is to grandma as father is to mother (gold: mother at rank 1)\n",
      "grandpa is to grandma as grandfather is to grandmother (gold: grandmother at rank 1)\n",
      "grandson is to granddaughter as groom is to bride (gold: bride at rank 1)\n",
      "grandson is to granddaughter as he is to she (gold: she at rank 1)\n",
      "grandson is to granddaughter as his is to her (gold: her at rank 1)\n",
      "grandson is to granddaughter as husband is to wife (gold: wife at rank 1)\n",
      "grandson is to granddaughter as king is to queen (gold: queen at rank 1)\n",
      "grandson is to granddaughter as man is to woman (gold: woman at rank 1)\n",
      "grandson is to granddaughter as nephew is to niece (gold: niece at rank 1)\n",
      "grandson is to granddaughter as policeman is to policewoman (gold: policewoman at rank 1)\n",
      "grandson is to granddaughter as prince is to princess (gold: princess at rank 1)\n",
      "grandson is to granddaughter as son is to daughter (gold: daughter at rank 1)\n",
      "grandson is to granddaughter as sons is to daughters (gold: daughters at rank 1)\n",
      "grandson is to granddaughter as stepbrother is to stepsister (gold: stepsister at rank 1)\n",
      "grandson is to granddaughter as stepfather is to stepdaughter (gold: stepmother at rank 2)\n",
      "grandson is to granddaughter as stepson is to stepdaughter (gold: stepdaughter at rank 1)\n",
      "grandson is to granddaughter as uncle is to aunt (gold: aunt at rank 1)\n",
      "grandson is to granddaughter as boy is to girl (gold: girl at rank 1)\n",
      "grandson is to granddaughter as brother is to wife (gold: sister at rank 3)\n",
      "grandson is to granddaughter as brothers is to sisters (gold: sisters at rank 1)\n",
      "grandson is to granddaughter as dad is to mom (gold: mom at rank 1)\n",
      "grandson is to granddaughter as father is to mother (gold: mother at rank 1)\n",
      "grandson is to granddaughter as grandfather is to grandmother (gold: grandmother at rank 1)\n",
      "grandson is to granddaughter as grandpa is to grandma (gold: grandma at rank 1)\n",
      "groom is to bride as he is to she (gold: she at rank 1)\n",
      "groom is to bride as his is to her (gold: her at rank 1)\n",
      "groom is to bride as husband is to wife (gold: wife at rank 1)\n",
      "groom is to bride as king is to queen (gold: queen at rank 1)\n",
      "groom is to bride as man is to woman (gold: woman at rank 1)\n",
      "groom is to bride as nephew is to cousin (gold: niece at rank 3)\n",
      "groom is to bride as policeman is to soldier (gold: policewoman at rank 54)\n",
      "groom is to bride as prince is to princess (gold: princess at rank 1)\n",
      "groom is to bride as son is to daughter (gold: daughter at rank 1)\n",
      "groom is to bride as sons is to daughters (gold: daughters at rank 1)\n",
      "groom is to bride as stepbrother is to stepsister (gold: stepsister at rank 1)\n",
      "groom is to bride as stepfather is to mother (gold: stepmother at rank 8)\n",
      "groom is to bride as stepson is to stepdaughter (gold: stepdaughter at rank 1)\n",
      "groom is to bride as uncle is to father (gold: aunt at rank 9)\n",
      "groom is to bride as boy is to girl (gold: girl at rank 1)\n",
      "groom is to bride as brother is to father (gold: sister at rank 9)\n",
      "groom is to bride as brothers is to sons (gold: sisters at rank 2)\n",
      "groom is to bride as dad is to mom (gold: mom at rank 1)\n",
      "groom is to bride as father is to mother (gold: mother at rank 1)\n",
      "groom is to bride as grandfather is to father (gold: grandmother at rank 2)\n",
      "groom is to bride as grandpa is to grandma (gold: grandma at rank 1)\n",
      "groom is to bride as grandson is to son (gold: granddaughter at rank 2)\n",
      "he is to she as his is to her (gold: her at rank 1)\n",
      "he is to she as husband is to wife (gold: wife at rank 1)\n",
      "he is to she as king is to queen (gold: queen at rank 1)\n",
      "he is to she as man is to woman (gold: woman at rank 1)\n",
      "he is to she as nephew is to niece (gold: niece at rank 1)\n",
      "he is to she as policeman is to woman (gold: policewoman at rank 5)\n",
      "he is to she as prince is to princess (gold: princess at rank 1)\n",
      "he is to she as son is to daughter (gold: daughter at rank 1)\n",
      "he is to she as sons is to daughters (gold: daughters at rank 1)\n",
      "he is to she as stepbrother is to stepsister (gold: stepsister at rank 1)\n",
      "he is to she as stepfather is to stepdaughter (gold: stepmother at rank 2)\n",
      "he is to she as stepson is to stepdaughter (gold: stepdaughter at rank 1)\n",
      "he is to she as uncle is to aunt (gold: aunt at rank 1)\n",
      "he is to she as boy is to girl (gold: girl at rank 1)\n",
      "he is to she as brother is to daughter (gold: sister at rank 3)\n",
      "he is to she as brothers is to sisters (gold: sisters at rank 1)\n",
      "he is to she as dad is to mom (gold: mom at rank 1)\n",
      "he is to she as father is to mother (gold: mother at rank 1)\n",
      "he is to she as grandfather is to grandmother (gold: grandmother at rank 1)\n",
      "he is to she as grandpa is to grandma (gold: grandma at rank 1)\n",
      "he is to she as grandson is to granddaughter (gold: granddaughter at rank 1)\n",
      "he is to she as groom is to bride (gold: bride at rank 1)\n",
      "his is to her as husband is to wife (gold: wife at rank 1)\n",
      "his is to her as king is to queen (gold: queen at rank 1)\n",
      "his is to her as man is to woman (gold: woman at rank 1)\n",
      "his is to her as nephew is to niece (gold: niece at rank 1)\n",
      "his is to her as policeman is to woman (gold: policewoman at rank 3)\n",
      "his is to her as prince is to princess (gold: princess at rank 1)\n",
      "his is to her as son is to daughter (gold: daughter at rank 1)\n",
      "his is to her as sons is to daughters (gold: daughters at rank 1)\n",
      "his is to her as stepbrother is to stepsister (gold: stepsister at rank 1)\n",
      "his is to her as stepfather is to stepdaughter (gold: stepmother at rank 3)\n",
      "his is to her as stepson is to stepdaughter (gold: stepdaughter at rank 1)\n",
      "his is to her as uncle is to aunt (gold: aunt at rank 1)\n",
      "his is to her as boy is to girl (gold: girl at rank 1)\n",
      "his is to her as brother is to daughter (gold: sister at rank 3)\n",
      "his is to her as brothers is to sisters (gold: sisters at rank 1)\n",
      "his is to her as dad is to mom (gold: mom at rank 1)\n"
     ]
    },
    {
     "name": "stdout",
     "output_type": "stream",
     "text": [
      "his is to her as father is to mother (gold: mother at rank 1)\n",
      "his is to her as grandfather is to grandmother (gold: grandmother at rank 1)\n",
      "his is to her as grandpa is to grandma (gold: grandma at rank 1)\n",
      "his is to her as grandson is to granddaughter (gold: granddaughter at rank 1)\n",
      "his is to her as groom is to bride (gold: bride at rank 1)\n",
      "his is to her as he is to she (gold: she at rank 1)\n",
      "husband is to wife as king is to queen (gold: queen at rank 1)\n",
      "husband is to wife as man is to woman (gold: woman at rank 1)\n",
      "husband is to wife as nephew is to cousin (gold: niece at rank 2)\n",
      "husband is to wife as policeman is to wounded (gold: policewoman at rank 44)\n",
      "husband is to wife as prince is to princess (gold: princess at rank 1)\n",
      "husband is to wife as son is to brother (gold: daughter at rank 2)\n",
      "husband is to wife as sons is to daughters (gold: daughters at rank 1)\n",
      "husband is to wife as stepbrother is to stepsister (gold: stepsister at rank 1)\n",
      "husband is to wife as stepfather is to niece (gold: stepmother at rank 2)\n",
      "husband is to wife as stepson is to stepdaughter (gold: stepdaughter at rank 1)\n",
      "husband is to wife as uncle is to brother (gold: aunt at rank 7)\n",
      "husband is to wife as boy is to girl (gold: girl at rank 1)\n",
      "husband is to wife as brother is to son (gold: sister at rank 7)\n",
      "husband is to wife as brothers is to sons (gold: sisters at rank 2)\n",
      "husband is to wife as dad is to mom (gold: mom at rank 1)\n",
      "husband is to wife as father is to brother (gold: mother at rank 3)\n",
      "husband is to wife as grandfather is to grandson (gold: grandmother at rank 3)\n",
      "husband is to wife as grandpa is to grandma (gold: grandma at rank 1)\n",
      "husband is to wife as grandson is to nephew (gold: granddaughter at rank 4)\n",
      "husband is to wife as groom is to bride (gold: bride at rank 1)\n",
      "husband is to wife as he is to she (gold: she at rank 1)\n",
      "husband is to wife as his is to her (gold: her at rank 1)\n",
      "king is to queen as man is to woman (gold: woman at rank 1)\n",
      "king is to queen as nephew is to niece (gold: niece at rank 1)\n",
      "king is to queen as policeman is to policewoman (gold: policewoman at rank 1)\n",
      "king is to queen as prince is to princess (gold: princess at rank 1)\n",
      "king is to queen as son is to daughter (gold: daughter at rank 1)\n",
      "king is to queen as sons is to daughters (gold: daughters at rank 1)\n",
      "king is to queen as stepbrother is to stepsister (gold: stepsister at rank 1)\n",
      "king is to queen as stepfather is to stepdaughter (gold: stepmother at rank 2)\n",
      "king is to queen as stepson is to stepdaughter (gold: stepdaughter at rank 1)\n",
      "king is to queen as uncle is to aunt (gold: aunt at rank 1)\n",
      "king is to queen as boy is to girl (gold: girl at rank 1)\n",
      "king is to queen as brother is to wife (gold: sister at rank 3)\n",
      "king is to queen as brothers is to sisters (gold: sisters at rank 1)\n",
      "king is to queen as dad is to mom (gold: mom at rank 1)\n",
      "king is to queen as father is to mother (gold: mother at rank 1)\n",
      "king is to queen as grandfather is to grandmother (gold: grandmother at rank 1)\n",
      "king is to queen as grandpa is to grandma (gold: grandma at rank 1)\n",
      "king is to queen as grandson is to granddaughter (gold: granddaughter at rank 1)\n",
      "king is to queen as groom is to bride (gold: bride at rank 1)\n",
      "king is to queen as he is to she (gold: she at rank 1)\n",
      "king is to queen as his is to her (gold: her at rank 1)\n",
      "king is to queen as husband is to wife (gold: wife at rank 1)\n",
      "man is to woman as nephew is to niece (gold: niece at rank 1)\n",
      "man is to woman as policeman is to wounded (gold: policewoman at rank 3)\n",
      "man is to woman as prince is to princess (gold: princess at rank 1)\n",
      "man is to woman as son is to daughter (gold: daughter at rank 1)\n",
      "man is to woman as sons is to daughters (gold: daughters at rank 1)\n",
      "man is to woman as stepbrother is to stepdaughter (gold: stepsister at rank 2)\n",
      "man is to woman as stepfather is to stepdaughter (gold: stepmother at rank 5)\n",
      "man is to woman as stepson is to stepdaughter (gold: stepdaughter at rank 1)\n",
      "man is to woman as uncle is to aunt (gold: aunt at rank 1)\n",
      "man is to woman as boy is to girl (gold: girl at rank 1)\n",
      "man is to woman as brother is to daughter (gold: sister at rank 6)\n",
      "man is to woman as brothers is to sisters (gold: sisters at rank 1)\n",
      "man is to woman as dad is to mom (gold: mom at rank 1)\n",
      "man is to woman as father is to mother (gold: mother at rank 1)\n",
      "man is to woman as grandfather is to grandmother (gold: grandmother at rank 1)\n",
      "man is to woman as grandpa is to grandma (gold: grandma at rank 1)\n",
      "man is to woman as grandson is to granddaughter (gold: granddaughter at rank 1)\n",
      "man is to woman as groom is to bride (gold: bride at rank 1)\n",
      "man is to woman as he is to she (gold: she at rank 1)\n",
      "man is to woman as his is to her (gold: her at rank 1)\n",
      "man is to woman as husband is to wife (gold: wife at rank 1)\n",
      "man is to woman as king is to queen (gold: queen at rank 1)\n",
      "nephew is to niece as policeman is to policewoman (gold: policewoman at rank 1)\n",
      "nephew is to niece as prince is to princess (gold: princess at rank 1)\n",
      "nephew is to niece as son is to daughter (gold: daughter at rank 1)\n",
      "nephew is to niece as sons is to daughters (gold: daughters at rank 1)\n",
      "nephew is to niece as stepbrother is to stepsister (gold: stepsister at rank 1)\n",
      "nephew is to niece as stepfather is to stepdaughter (gold: stepmother at rank 2)\n",
      "nephew is to niece as stepson is to stepdaughter (gold: stepdaughter at rank 1)\n",
      "nephew is to niece as uncle is to aunt (gold: aunt at rank 1)\n",
      "nephew is to niece as boy is to girl (gold: girl at rank 1)\n",
      "nephew is to niece as brother is to daughter (gold: sister at rank 4)\n",
      "nephew is to niece as brothers is to sisters (gold: sisters at rank 1)\n",
      "nephew is to niece as dad is to mom (gold: mom at rank 1)\n",
      "nephew is to niece as father is to mother (gold: mother at rank 1)\n",
      "nephew is to niece as grandfather is to grandmother (gold: grandmother at rank 1)\n",
      "nephew is to niece as grandpa is to grandma (gold: grandma at rank 1)\n",
      "nephew is to niece as grandson is to granddaughter (gold: granddaughter at rank 1)\n",
      "nephew is to niece as groom is to bride (gold: bride at rank 1)\n",
      "nephew is to niece as he is to she (gold: she at rank 1)\n",
      "nephew is to niece as his is to her (gold: her at rank 1)\n",
      "nephew is to niece as husband is to wife (gold: wife at rank 1)\n",
      "nephew is to niece as king is to queen (gold: queen at rank 1)\n",
      "nephew is to niece as man is to woman (gold: woman at rank 1)\n",
      "policeman is to policewoman as prince is to princess (gold: princess at rank 1)\n",
      "policeman is to policewoman as son is to granddaughter (gold: daughter at rank 2)\n",
      "policeman is to policewoman as sons is to daughters (gold: daughters at rank 1)\n",
      "policeman is to policewoman as stepbrother is to stepsister (gold: stepsister at rank 1)\n",
      "policeman is to policewoman as stepfather is to stepmother (gold: stepmother at rank 1)\n",
      "policeman is to policewoman as stepson is to stepbrother (gold: stepdaughter at rank 2)\n",
      "policeman is to policewoman as uncle is to aunt (gold: aunt at rank 1)\n",
      "policeman is to policewoman as boy is to girl (gold: girl at rank 1)\n",
      "policeman is to policewoman as brother is to niece (gold: sister at rank 15)\n",
      "policeman is to policewoman as brothers is to sisters (gold: sisters at rank 1)\n",
      "policeman is to policewoman as dad is to mom (gold: mom at rank 1)\n",
      "policeman is to policewoman as father is to married (gold: mother at rank 7)\n",
      "policeman is to policewoman as grandfather is to granddaughter (gold: grandmother at rank 2)\n",
      "policeman is to policewoman as grandpa is to grandma (gold: grandma at rank 1)\n",
      "policeman is to policewoman as grandson is to granddaughter (gold: granddaughter at rank 1)\n",
      "policeman is to policewoman as groom is to bride (gold: bride at rank 1)\n",
      "policeman is to policewoman as he is to she (gold: she at rank 1)\n",
      "policeman is to policewoman as his is to her (gold: her at rank 1)\n",
      "policeman is to policewoman as husband is to married (gold: wife at rank 2)\n",
      "policeman is to policewoman as king is to queen (gold: queen at rank 1)\n",
      "policeman is to policewoman as man is to woman (gold: woman at rank 1)\n",
      "policeman is to policewoman as nephew is to niece (gold: niece at rank 1)\n",
      "prince is to princess as son is to daughter (gold: daughter at rank 1)\n",
      "prince is to princess as sons is to daughters (gold: daughters at rank 1)\n"
     ]
    },
    {
     "name": "stdout",
     "output_type": "stream",
     "text": [
      "prince is to princess as stepbrother is to stepsister (gold: stepsister at rank 1)\n",
      "prince is to princess as stepfather is to stepmother (gold: stepmother at rank 1)\n",
      "prince is to princess as stepson is to stepdaughter (gold: stepdaughter at rank 1)\n",
      "prince is to princess as uncle is to aunt (gold: aunt at rank 1)\n",
      "prince is to princess as boy is to girl (gold: girl at rank 1)\n",
      "prince is to princess as brother is to sister (gold: sister at rank 1)\n",
      "prince is to princess as brothers is to sisters (gold: sisters at rank 1)\n",
      "prince is to princess as dad is to mom (gold: mom at rank 1)\n",
      "prince is to princess as father is to mother (gold: mother at rank 1)\n",
      "prince is to princess as grandfather is to grandmother (gold: grandmother at rank 1)\n",
      "prince is to princess as grandpa is to grandma (gold: grandma at rank 1)\n",
      "prince is to princess as grandson is to granddaughter (gold: granddaughter at rank 1)\n",
      "prince is to princess as groom is to bride (gold: bride at rank 1)\n",
      "prince is to princess as he is to she (gold: she at rank 1)\n",
      "prince is to princess as his is to her (gold: her at rank 1)\n",
      "prince is to princess as husband is to mother (gold: wife at rank 2)\n",
      "prince is to princess as king is to queen (gold: queen at rank 1)\n",
      "prince is to princess as man is to woman (gold: woman at rank 1)\n",
      "prince is to princess as nephew is to niece (gold: niece at rank 1)\n",
      "prince is to princess as policeman is to woman (gold: policewoman at rank 3)\n",
      "son is to daughter as sons is to daughters (gold: daughters at rank 1)\n",
      "son is to daughter as stepbrother is to stepsister (gold: stepsister at rank 1)\n",
      "son is to daughter as stepfather is to stepdaughter (gold: stepmother at rank 2)\n",
      "son is to daughter as stepson is to stepdaughter (gold: stepdaughter at rank 1)\n",
      "son is to daughter as uncle is to aunt (gold: aunt at rank 1)\n",
      "son is to daughter as boy is to girl (gold: girl at rank 1)\n",
      "son is to daughter as brother is to wife (gold: sister at rank 2)\n",
      "son is to daughter as brothers is to sisters (gold: sisters at rank 1)\n",
      "son is to daughter as dad is to mom (gold: mom at rank 1)\n",
      "son is to daughter as father is to mother (gold: mother at rank 1)\n",
      "son is to daughter as grandfather is to grandmother (gold: grandmother at rank 1)\n",
      "son is to daughter as grandpa is to grandma (gold: grandma at rank 1)\n",
      "son is to daughter as grandson is to granddaughter (gold: granddaughter at rank 1)\n",
      "son is to daughter as groom is to bride (gold: bride at rank 1)\n",
      "son is to daughter as he is to she (gold: she at rank 1)\n",
      "son is to daughter as his is to her (gold: her at rank 1)\n",
      "son is to daughter as husband is to wife (gold: wife at rank 1)\n",
      "son is to daughter as king is to queen (gold: queen at rank 1)\n",
      "son is to daughter as man is to woman (gold: woman at rank 1)\n",
      "son is to daughter as nephew is to niece (gold: niece at rank 1)\n",
      "son is to daughter as policeman is to woman (gold: policewoman at rank 5)\n",
      "son is to daughter as prince is to princess (gold: princess at rank 1)\n",
      "sons is to daughters as stepbrother is to stepsister (gold: stepsister at rank 1)\n",
      "sons is to daughters as stepfather is to stepdaughter (gold: stepmother at rank 4)\n",
      "sons is to daughters as stepson is to stepdaughter (gold: stepdaughter at rank 1)\n",
      "sons is to daughters as uncle is to aunt (gold: aunt at rank 1)\n",
      "sons is to daughters as boy is to girl (gold: girl at rank 1)\n",
      "sons is to daughters as brother is to wife (gold: sister at rank 4)\n",
      "sons is to daughters as brothers is to sisters (gold: sisters at rank 1)\n",
      "sons is to daughters as dad is to mom (gold: mom at rank 1)\n",
      "sons is to daughters as father is to mother (gold: mother at rank 1)\n",
      "sons is to daughters as grandfather is to grandmother (gold: grandmother at rank 1)\n",
      "sons is to daughters as grandpa is to grandma (gold: grandma at rank 1)\n",
      "sons is to daughters as grandson is to granddaughter (gold: granddaughter at rank 1)\n",
      "sons is to daughters as groom is to bride (gold: bride at rank 1)\n",
      "sons is to daughters as he is to she (gold: she at rank 1)\n",
      "sons is to daughters as his is to her (gold: her at rank 1)\n",
      "sons is to daughters as husband is to wife (gold: wife at rank 1)\n",
      "sons is to daughters as king is to queen (gold: queen at rank 1)\n",
      "sons is to daughters as man is to woman (gold: woman at rank 1)\n",
      "sons is to daughters as nephew is to niece (gold: niece at rank 1)\n",
      "sons is to daughters as policeman is to woman (gold: policewoman at rank 4)\n",
      "sons is to daughters as prince is to princess (gold: princess at rank 1)\n",
      "sons is to daughters as son is to daughter (gold: daughter at rank 1)\n",
      "stepbrother is to stepsister as stepfather is to stepmother (gold: stepmother at rank 1)\n",
      "stepbrother is to stepsister as stepson is to stepdaughter (gold: stepdaughter at rank 1)\n",
      "stepbrother is to stepsister as uncle is to aunt (gold: aunt at rank 1)\n",
      "stepbrother is to stepsister as boy is to girl (gold: girl at rank 1)\n",
      "stepbrother is to stepsister as brother is to son (gold: sister at rank 7)\n",
      "stepbrother is to stepsister as brothers is to sisters (gold: sisters at rank 1)\n",
      "stepbrother is to stepsister as dad is to mom (gold: mom at rank 1)\n",
      "stepbrother is to stepsister as father is to mother (gold: mother at rank 1)\n",
      "stepbrother is to stepsister as grandfather is to grandmother (gold: grandmother at rank 1)\n",
      "stepbrother is to stepsister as grandpa is to grandma (gold: grandma at rank 1)\n",
      "stepbrother is to stepsister as grandson is to son (gold: granddaughter at rank 2)\n",
      "stepbrother is to stepsister as groom is to bride (gold: bride at rank 1)\n",
      "stepbrother is to stepsister as he is to she (gold: she at rank 1)\n",
      "stepbrother is to stepsister as his is to her (gold: her at rank 1)\n",
      "stepbrother is to stepsister as husband is to wife (gold: wife at rank 1)\n",
      "stepbrother is to stepsister as king is to queen (gold: queen at rank 1)\n",
      "stepbrother is to stepsister as man is to woman (gold: woman at rank 1)\n",
      "stepbrother is to stepsister as nephew is to cousin (gold: niece at rank 2)\n",
      "stepbrother is to stepsister as policeman is to police (gold: policewoman at rank 27)\n",
      "stepbrother is to stepsister as prince is to princess (gold: princess at rank 1)\n",
      "stepbrother is to stepsister as son is to daughter (gold: daughter at rank 1)\n",
      "stepbrother is to stepsister as sons is to daughters (gold: daughters at rank 1)\n",
      "stepfather is to stepmother as stepson is to stepdaughter (gold: stepdaughter at rank 1)\n",
      "stepfather is to stepmother as uncle is to aunt (gold: aunt at rank 1)\n",
      "stepfather is to stepmother as boy is to girl (gold: girl at rank 1)\n",
      "stepfather is to stepmother as brother is to nephew (gold: sister at rank 10)\n",
      "stepfather is to stepmother as brothers is to sons (gold: sisters at rank 2)\n",
      "stepfather is to stepmother as dad is to mom (gold: mom at rank 1)\n",
      "stepfather is to stepmother as father is to wife (gold: mother at rank 2)\n",
      "stepfather is to stepmother as grandfather is to granddaughter (gold: grandmother at rank 2)\n",
      "stepfather is to stepmother as grandpa is to grandma (gold: grandma at rank 1)\n",
      "stepfather is to stepmother as grandson is to nephew (gold: granddaughter at rank 2)\n",
      "stepfather is to stepmother as groom is to bride (gold: bride at rank 1)\n",
      "stepfather is to stepmother as he is to she (gold: she at rank 1)\n",
      "stepfather is to stepmother as his is to her (gold: her at rank 1)\n",
      "stepfather is to stepmother as husband is to wife (gold: wife at rank 1)\n",
      "stepfather is to stepmother as king is to queen (gold: queen at rank 1)\n",
      "stepfather is to stepmother as man is to woman (gold: woman at rank 1)\n",
      "stepfather is to stepmother as nephew is to niece (gold: niece at rank 1)\n",
      "stepfather is to stepmother as policeman is to wounded (gold: policewoman at rank 7)\n",
      "stepfather is to stepmother as prince is to princess (gold: princess at rank 1)\n",
      "stepfather is to stepmother as son is to brother (gold: daughter at rank 3)\n",
      "stepfather is to stepmother as sons is to daughters (gold: daughters at rank 1)\n",
      "stepfather is to stepmother as stepbrother is to stepsister (gold: stepsister at rank 1)\n",
      "stepson is to stepdaughter as uncle is to aunt (gold: aunt at rank 1)\n",
      "stepson is to stepdaughter as boy is to girl (gold: girl at rank 1)\n",
      "stepson is to stepdaughter as brother is to wife (gold: sister at rank 8)\n",
      "stepson is to stepdaughter as brothers is to sisters (gold: sisters at rank 1)\n",
      "stepson is to stepdaughter as dad is to mom (gold: mom at rank 1)\n"
     ]
    },
    {
     "name": "stdout",
     "output_type": "stream",
     "text": [
      "stepson is to stepdaughter as father is to mother (gold: mother at rank 1)\n",
      "stepson is to stepdaughter as grandfather is to grandmother (gold: grandmother at rank 1)\n",
      "stepson is to stepdaughter as grandpa is to grandma (gold: grandma at rank 1)\n",
      "stepson is to stepdaughter as grandson is to granddaughter (gold: granddaughter at rank 1)\n",
      "stepson is to stepdaughter as groom is to bride (gold: bride at rank 1)\n",
      "stepson is to stepdaughter as he is to she (gold: she at rank 1)\n",
      "stepson is to stepdaughter as his is to her (gold: her at rank 1)\n",
      "stepson is to stepdaughter as husband is to wife (gold: wife at rank 1)\n",
      "stepson is to stepdaughter as king is to queen (gold: queen at rank 1)\n",
      "stepson is to stepdaughter as man is to woman (gold: woman at rank 1)\n",
      "stepson is to stepdaughter as nephew is to niece (gold: niece at rank 1)\n",
      "stepson is to stepdaughter as policeman is to wounded (gold: policewoman at rank 9)\n",
      "stepson is to stepdaughter as prince is to princess (gold: princess at rank 1)\n",
      "stepson is to stepdaughter as son is to daughter (gold: daughter at rank 1)\n",
      "stepson is to stepdaughter as sons is to daughters (gold: daughters at rank 1)\n",
      "stepson is to stepdaughter as stepbrother is to stepsister (gold: stepsister at rank 1)\n",
      "stepson is to stepdaughter as stepfather is to stepmother (gold: stepmother at rank 1)\n",
      "uncle is to aunt as boy is to girl (gold: girl at rank 1)\n",
      "uncle is to aunt as brother is to wife (gold: sister at rank 4)\n",
      "uncle is to aunt as brothers is to sisters (gold: sisters at rank 1)\n",
      "uncle is to aunt as dad is to mom (gold: mom at rank 1)\n",
      "uncle is to aunt as father is to mother (gold: mother at rank 1)\n",
      "uncle is to aunt as grandfather is to grandmother (gold: grandmother at rank 1)\n",
      "uncle is to aunt as grandpa is to grandma (gold: grandma at rank 1)\n",
      "uncle is to aunt as grandson is to granddaughter (gold: granddaughter at rank 1)\n",
      "uncle is to aunt as groom is to bride (gold: bride at rank 1)\n",
      "uncle is to aunt as he is to she (gold: she at rank 1)\n",
      "uncle is to aunt as his is to her (gold: her at rank 1)\n",
      "uncle is to aunt as husband is to wife (gold: wife at rank 1)\n",
      "uncle is to aunt as king is to queen (gold: queen at rank 1)\n",
      "uncle is to aunt as man is to woman (gold: woman at rank 1)\n",
      "uncle is to aunt as nephew is to niece (gold: niece at rank 1)\n",
      "uncle is to aunt as policeman is to wounded (gold: policewoman at rank 2)\n",
      "uncle is to aunt as prince is to princess (gold: princess at rank 1)\n",
      "uncle is to aunt as son is to daughter (gold: daughter at rank 1)\n",
      "uncle is to aunt as sons is to daughters (gold: daughters at rank 1)\n",
      "uncle is to aunt as stepbrother is to stepsister (gold: stepsister at rank 1)\n",
      "uncle is to aunt as stepfather is to stepdaughter (gold: stepmother at rank 2)\n",
      "uncle is to aunt as stepson is to stepdaughter (gold: stepdaughter at rank 1)\n"
     ]
    },
    {
     "data": {
      "text/plain": [
       "(0.879974124835785, defaultdict(int, {False: 91, True: 415}))"
      ]
     },
     "execution_count": 256,
     "metadata": {},
     "output_type": "execute_result"
    }
   ],
   "source": [
    "analogy_evaluation(glove_df.loc[giga20.index], src_filename='family.txt', verbose=False)"
   ]
  },
  {
   "cell_type": "code",
   "execution_count": 257,
   "metadata": {},
   "outputs": [
    {
     "name": "stderr",
     "output_type": "stream",
     "text": [
      "/home/donlee/Stanford/cs224u/project/.env/lib/python3.5/site-packages/ipykernel_launcher.py:1: FutureWarning: \n",
      "Passing list-likes to .loc or [] with any missing label will raise\n",
      "KeyError in the future, you can use .reindex() as an alternative.\n",
      "\n",
      "See the documentation here:\n",
      "https://pandas.pydata.org/pandas-docs/stable/indexing.html#deprecate-loc-reindex-listlike\n",
      "  \"\"\"Entry point for launching an IPython kernel.\n"
     ]
    },
    {
     "data": {
      "text/plain": [
       "(0.421351164496735, defaultdict(int, {False: 678, True: 314}))"
      ]
     },
     "execution_count": 257,
     "metadata": {},
     "output_type": "execute_result"
    }
   ],
   "source": [
    "analogy_evaluation(glove_df.loc[giga20.index], src_filename='gram1-adjective-to-adverb.txt', verbose=False)"
   ]
  },
  {
   "cell_type": "code",
   "execution_count": 258,
   "metadata": {},
   "outputs": [
    {
     "name": "stderr",
     "output_type": "stream",
     "text": [
      "/home/donlee/Stanford/cs224u/project/.env/lib/python3.5/site-packages/ipykernel_launcher.py:1: FutureWarning: \n",
      "Passing list-likes to .loc or [] with any missing label will raise\n",
      "KeyError in the future, you can use .reindex() as an alternative.\n",
      "\n",
      "See the documentation here:\n",
      "https://pandas.pydata.org/pandas-docs/stable/indexing.html#deprecate-loc-reindex-listlike\n",
      "  \"\"\"Entry point for launching an IPython kernel.\n"
     ]
    },
    {
     "data": {
      "text/plain": [
       "(0.45090781304319216, defaultdict(int, {False: 523, True: 289}))"
      ]
     },
     "execution_count": 258,
     "metadata": {},
     "output_type": "execute_result"
    }
   ],
   "source": [
    "analogy_evaluation(glove_df.loc[giga20.index], src_filename='gram2-opposite.txt', verbose=False)"
   ]
  },
  {
   "cell_type": "code",
   "execution_count": 140,
   "metadata": {},
   "outputs": [
    {
     "name": "stderr",
     "output_type": "stream",
     "text": [
      "/home/donlee/Stanford/cs224u/project/.env/lib/python3.5/site-packages/ipykernel_launcher.py:1: FutureWarning: \n",
      "Passing list-likes to .loc or [] with any missing label will raise\n",
      "KeyError in the future, you can use .reindex() as an alternative.\n",
      "\n",
      "See the documentation here:\n",
      "https://pandas.pydata.org/pandas-docs/stable/indexing.html#deprecate-loc-reindex-listlike\n",
      "  \"\"\"Entry point for launching an IPython kernel.\n"
     ]
    },
    {
     "data": {
      "text/plain": [
       "(0.8711419803625379, defaultdict(int, {False: 241, True: 1091}))"
      ]
     },
     "execution_count": 140,
     "metadata": {},
     "output_type": "execute_result"
    }
   ],
   "source": [
    "analogy_evaluation(glove_df.loc[giga20.index], src_filename='gram3-comparative.txt', verbose=False)"
   ]
  },
  {
   "cell_type": "code",
   "execution_count": 136,
   "metadata": {},
   "outputs": [
    {
     "name": "stderr",
     "output_type": "stream",
     "text": [
      "/home/donlee/Stanford/cs224u/project/.env/lib/python3.5/site-packages/ipykernel_launcher.py:1: FutureWarning: \n",
      "Passing list-likes to .loc or [] with any missing label will raise\n",
      "KeyError in the future, you can use .reindex() as an alternative.\n",
      "\n",
      "See the documentation here:\n",
      "https://pandas.pydata.org/pandas-docs/stable/indexing.html#deprecate-loc-reindex-listlike\n",
      "  \"\"\"Entry point for launching an IPython kernel.\n"
     ]
    },
    {
     "data": {
      "text/plain": [
       "(0.8153031675311048, defaultdict(int, {False: 272, True: 784}))"
      ]
     },
     "execution_count": 136,
     "metadata": {},
     "output_type": "execute_result"
    }
   ],
   "source": [
    "analogy_evaluation(glove_df.loc[giga20.index], src_filename='gram5-present-participle.txt', verbose=False)"
   ]
  },
  {
   "cell_type": "code",
   "execution_count": 139,
   "metadata": {},
   "outputs": [
    {
     "name": "stderr",
     "output_type": "stream",
     "text": [
      "/home/donlee/Stanford/cs224u/project/.env/lib/python3.5/site-packages/ipykernel_launcher.py:1: FutureWarning: \n",
      "Passing list-likes to .loc or [] with any missing label will raise\n",
      "KeyError in the future, you can use .reindex() as an alternative.\n",
      "\n",
      "See the documentation here:\n",
      "https://pandas.pydata.org/pandas-docs/stable/indexing.html#deprecate-loc-reindex-listlike\n",
      "  \"\"\"Entry point for launching an IPython kernel.\n"
     ]
    },
    {
     "data": {
      "text/plain": [
       "(0.8470770712410322, defaultdict(int, {False: 301, True: 1031}))"
      ]
     },
     "execution_count": 139,
     "metadata": {},
     "output_type": "execute_result"
    }
   ],
   "source": [
    "analogy_evaluation(glove_df.loc[giga20.index], src_filename='gram8-plural.txt', verbose=False)"
   ]
  },
  {
   "cell_type": "code",
   "execution_count": 138,
   "metadata": {},
   "outputs": [
    {
     "name": "stderr",
     "output_type": "stream",
     "text": [
      "/home/donlee/Stanford/cs224u/project/.env/lib/python3.5/site-packages/ipykernel_launcher.py:1: FutureWarning: \n",
      "Passing list-likes to .loc or [] with any missing label will raise\n",
      "KeyError in the future, you can use .reindex() as an alternative.\n",
      "\n",
      "See the documentation here:\n",
      "https://pandas.pydata.org/pandas-docs/stable/indexing.html#deprecate-loc-reindex-listlike\n",
      "  \"\"\"Entry point for launching an IPython kernel.\n"
     ]
    },
    {
     "data": {
      "text/plain": [
       "(0.934559239137541, defaultdict(int, {False: 426, True: 4098}))"
      ]
     },
     "execution_count": 138,
     "metadata": {},
     "output_type": "execute_result"
    }
   ],
   "source": [
    "analogy_evaluation(glove_df.loc[giga20.index], src_filename='capital-world.txt', verbose=False)"
   ]
  },
  {
   "cell_type": "markdown",
   "metadata": {},
   "source": [
    "### Ours"
   ]
  },
  {
   "cell_type": "code",
   "execution_count": 100,
   "metadata": {
    "scrolled": true
   },
   "outputs": [
    {
     "name": "stderr",
     "output_type": "stream",
     "text": [
      "/home/donlee/Stanford/cs224u/project/.env/lib/python3.5/site-packages/ipykernel_launcher.py:1: FutureWarning: \n",
      "Passing list-likes to .loc or [] with any missing label will raise\n",
      "KeyError in the future, you can use .reindex() as an alternative.\n",
      "\n",
      "See the documentation here:\n",
      "https://pandas.pydata.org/pandas-docs/stable/indexing.html#deprecate-loc-reindex-listlike\n",
      "  \"\"\"Entry point for launching an IPython kernel.\n"
     ]
    },
    {
     "name": "stdout",
     "output_type": "stream",
     "text": [
      "boy is to girl as brother is to daughter (gold: sister at rank 6)\n",
      "boy is to girl as brothers is to sisters (gold: sisters at rank 1)\n",
      "boy is to girl as dad is to mom (gold: mom at rank 1)\n",
      "boy is to girl as father is to mother (gold: mother at rank 1)\n",
      "boy is to girl as grandfather is to grandmother (gold: grandmother at rank 1)\n",
      "boy is to girl as grandpa is to grandma (gold: grandma at rank 1)\n",
      "boy is to girl as grandson is to granddaughter (gold: granddaughter at rank 1)\n",
      "boy is to girl as groom is to bride (gold: bride at rank 1)\n",
      "boy is to girl as he is to she (gold: she at rank 1)\n",
      "boy is to girl as his is to her (gold: her at rank 1)\n",
      "boy is to girl as husband is to wife (gold: wife at rank 1)\n",
      "boy is to girl as king is to queen (gold: queen at rank 1)\n",
      "boy is to girl as man is to woman (gold: woman at rank 1)\n",
      "boy is to girl as nephew is to niece (gold: niece at rank 1)\n",
      "boy is to girl as policeman is to policewoman (gold: policewoman at rank 1)\n",
      "boy is to girl as prince is to princess (gold: princess at rank 1)\n",
      "boy is to girl as son is to daughter (gold: daughter at rank 1)\n",
      "boy is to girl as sons is to daughters (gold: daughters at rank 1)\n",
      "boy is to girl as stepbrother is to stepsister (gold: stepsister at rank 1)\n",
      "boy is to girl as stepfather is to stepmother (gold: stepmother at rank 1)\n",
      "boy is to girl as stepson is to stepdaughter (gold: stepdaughter at rank 1)\n",
      "boy is to girl as uncle is to aunt (gold: aunt at rank 1)\n",
      "brother is to sister as brothers is to sisters (gold: sisters at rank 1)\n",
      "brother is to sister as dad is to mom (gold: mom at rank 1)\n",
      "brother is to sister as father is to mother (gold: mother at rank 1)\n",
      "brother is to sister as grandfather is to grandmother (gold: grandmother at rank 1)\n",
      "brother is to sister as grandpa is to grandma (gold: grandma at rank 1)\n",
      "brother is to sister as grandson is to granddaughter (gold: granddaughter at rank 1)\n",
      "brother is to sister as groom is to bride (gold: bride at rank 1)\n",
      "brother is to sister as he is to she (gold: she at rank 1)\n",
      "brother is to sister as his is to her (gold: her at rank 1)\n",
      "brother is to sister as husband is to wife (gold: wife at rank 1)\n",
      "brother is to sister as king is to queen (gold: queen at rank 1)\n",
      "brother is to sister as man is to woman (gold: woman at rank 1)\n",
      "brother is to sister as nephew is to niece (gold: niece at rank 1)\n",
      "brother is to sister as policeman is to woman (gold: policewoman at rank 3)\n",
      "brother is to sister as prince is to princess (gold: princess at rank 1)\n",
      "brother is to sister as son is to daughter (gold: daughter at rank 1)\n",
      "brother is to sister as sons is to daughters (gold: daughters at rank 1)\n",
      "brother is to sister as stepbrother is to stepsister (gold: stepsister at rank 1)\n",
      "brother is to sister as stepfather is to stepdaughter (gold: stepmother at rank 2)\n",
      "brother is to sister as stepson is to stepdaughter (gold: stepdaughter at rank 1)\n",
      "brother is to sister as uncle is to aunt (gold: aunt at rank 1)\n",
      "brother is to sister as boy is to girl (gold: girl at rank 1)\n",
      "brothers is to sisters as dad is to mom (gold: mom at rank 1)\n",
      "brothers is to sisters as father is to mother (gold: mother at rank 1)\n",
      "brothers is to sisters as grandfather is to grandmother (gold: grandmother at rank 1)\n",
      "brothers is to sisters as grandpa is to grandma (gold: grandma at rank 1)\n",
      "brothers is to sisters as grandson is to niece (gold: granddaughter at rank 2)\n",
      "brothers is to sisters as groom is to bride (gold: bride at rank 1)\n",
      "brothers is to sisters as he is to she (gold: she at rank 1)\n",
      "brothers is to sisters as his is to her (gold: her at rank 1)\n",
      "brothers is to sisters as husband is to wife (gold: wife at rank 1)\n",
      "brothers is to sisters as king is to queen (gold: queen at rank 1)\n",
      "brothers is to sisters as man is to woman (gold: woman at rank 1)\n",
      "brothers is to sisters as nephew is to niece (gold: niece at rank 1)\n",
      "brothers is to sisters as policeman is to woman (gold: policewoman at rank 3)\n",
      "brothers is to sisters as prince is to princess (gold: princess at rank 1)\n",
      "brothers is to sisters as son is to daughter (gold: daughter at rank 1)\n",
      "brothers is to sisters as sons is to daughters (gold: daughters at rank 1)\n",
      "brothers is to sisters as stepbrother is to stepsister (gold: stepsister at rank 1)\n",
      "brothers is to sisters as stepfather is to stepdaughter (gold: stepmother at rank 2)\n",
      "brothers is to sisters as stepson is to stepdaughter (gold: stepdaughter at rank 1)\n",
      "brothers is to sisters as uncle is to aunt (gold: aunt at rank 1)\n",
      "brothers is to sisters as boy is to girl (gold: girl at rank 1)\n",
      "brothers is to sisters as brother is to daughter (gold: sister at rank 2)\n",
      "dad is to mom as father is to mother (gold: mother at rank 1)\n",
      "dad is to mom as grandfather is to grandmother (gold: grandmother at rank 1)\n",
      "dad is to mom as grandpa is to grandma (gold: grandma at rank 1)\n",
      "dad is to mom as grandson is to granddaughter (gold: granddaughter at rank 1)\n",
      "dad is to mom as groom is to bride (gold: bride at rank 1)\n",
      "dad is to mom as he is to she (gold: she at rank 1)\n",
      "dad is to mom as his is to her (gold: her at rank 1)\n",
      "dad is to mom as husband is to wife (gold: wife at rank 1)\n",
      "dad is to mom as king is to queen (gold: queen at rank 1)\n",
      "dad is to mom as man is to woman (gold: woman at rank 1)\n",
      "dad is to mom as nephew is to niece (gold: niece at rank 1)\n",
      "dad is to mom as policeman is to police (gold: policewoman at rank 7)\n",
      "dad is to mom as prince is to princess (gold: princess at rank 1)\n",
      "dad is to mom as son is to daughter (gold: daughter at rank 1)\n",
      "dad is to mom as sons is to daughters (gold: daughters at rank 1)\n",
      "dad is to mom as stepbrother is to stepsister (gold: stepsister at rank 1)\n",
      "dad is to mom as stepfather is to stepdaughter (gold: stepmother at rank 3)\n",
      "dad is to mom as stepson is to stepdaughter (gold: stepdaughter at rank 1)\n",
      "dad is to mom as uncle is to aunt (gold: aunt at rank 1)\n",
      "dad is to mom as boy is to girl (gold: girl at rank 1)\n",
      "dad is to mom as brother is to sister (gold: sister at rank 1)\n",
      "dad is to mom as brothers is to sisters (gold: sisters at rank 1)\n",
      "father is to mother as grandfather is to grandmother (gold: grandmother at rank 1)\n",
      "father is to mother as grandpa is to grandma (gold: grandma at rank 1)\n",
      "father is to mother as grandson is to granddaughter (gold: granddaughter at rank 1)\n",
      "father is to mother as groom is to bride (gold: bride at rank 1)\n",
      "father is to mother as he is to she (gold: she at rank 1)\n",
      "father is to mother as his is to her (gold: her at rank 1)\n",
      "father is to mother as husband is to wife (gold: wife at rank 1)\n",
      "father is to mother as king is to queen (gold: queen at rank 1)\n",
      "father is to mother as man is to woman (gold: woman at rank 1)\n",
      "father is to mother as nephew is to niece (gold: niece at rank 1)\n",
      "father is to mother as policeman is to wounded (gold: policewoman at rank 5)\n",
      "father is to mother as prince is to princess (gold: princess at rank 1)\n",
      "father is to mother as son is to daughter (gold: daughter at rank 1)\n",
      "father is to mother as sons is to daughters (gold: daughters at rank 1)\n",
      "father is to mother as stepbrother is to stepsister (gold: stepsister at rank 1)\n",
      "father is to mother as stepfather is to stepdaughter (gold: stepmother at rank 2)\n",
      "father is to mother as stepson is to stepdaughter (gold: stepdaughter at rank 1)\n",
      "father is to mother as uncle is to aunt (gold: aunt at rank 1)\n",
      "father is to mother as boy is to girl (gold: girl at rank 1)\n",
      "father is to mother as brother is to daughter (gold: sister at rank 3)\n",
      "father is to mother as brothers is to sisters (gold: sisters at rank 1)\n",
      "father is to mother as dad is to mom (gold: mom at rank 1)\n",
      "grandfather is to grandmother as grandpa is to grandma (gold: grandma at rank 1)\n",
      "grandfather is to grandmother as grandson is to granddaughter (gold: granddaughter at rank 1)\n",
      "grandfather is to grandmother as groom is to bride (gold: bride at rank 1)\n",
      "grandfather is to grandmother as he is to she (gold: she at rank 1)\n",
      "grandfather is to grandmother as his is to her (gold: her at rank 1)\n",
      "grandfather is to grandmother as husband is to wife (gold: wife at rank 1)\n",
      "grandfather is to grandmother as king is to queen (gold: queen at rank 1)\n",
      "grandfather is to grandmother as man is to woman (gold: woman at rank 1)\n",
      "grandfather is to grandmother as nephew is to niece (gold: niece at rank 1)\n"
     ]
    },
    {
     "name": "stdout",
     "output_type": "stream",
     "text": [
      "grandfather is to grandmother as policeman is to wounded (gold: policewoman at rank 7)\n",
      "grandfather is to grandmother as prince is to princess (gold: princess at rank 1)\n",
      "grandfather is to grandmother as son is to daughter (gold: daughter at rank 1)\n",
      "grandfather is to grandmother as sons is to daughters (gold: daughters at rank 1)\n",
      "grandfather is to grandmother as stepbrother is to stepsister (gold: stepsister at rank 1)\n",
      "grandfather is to grandmother as stepfather is to stepdaughter (gold: stepmother at rank 2)\n",
      "grandfather is to grandmother as stepson is to stepdaughter (gold: stepdaughter at rank 1)\n",
      "grandfather is to grandmother as uncle is to aunt (gold: aunt at rank 1)\n",
      "grandfather is to grandmother as boy is to girl (gold: girl at rank 1)\n",
      "grandfather is to grandmother as brother is to mother (gold: sister at rank 4)\n",
      "grandfather is to grandmother as brothers is to sisters (gold: sisters at rank 1)\n",
      "grandfather is to grandmother as dad is to mom (gold: mom at rank 1)\n",
      "grandfather is to grandmother as father is to mother (gold: mother at rank 1)\n",
      "grandpa is to grandma as grandson is to granddaughter (gold: granddaughter at rank 1)\n",
      "grandpa is to grandma as groom is to bride (gold: bride at rank 1)\n",
      "grandpa is to grandma as he is to she (gold: she at rank 1)\n",
      "grandpa is to grandma as his is to her (gold: her at rank 1)\n",
      "grandpa is to grandma as husband is to mother (gold: wife at rank 2)\n",
      "grandpa is to grandma as king is to queen (gold: queen at rank 1)\n",
      "grandpa is to grandma as man is to woman (gold: woman at rank 1)\n",
      "grandpa is to grandma as nephew is to cousin (gold: niece at rank 2)\n",
      "grandpa is to grandma as policeman is to police (gold: policewoman at rank 23)\n",
      "grandpa is to grandma as prince is to princess (gold: princess at rank 1)\n",
      "grandpa is to grandma as son is to father (gold: daughter at rank 2)\n",
      "grandpa is to grandma as sons is to daughters (gold: daughters at rank 1)\n",
      "grandpa is to grandma as stepbrother is to stepdaughter (gold: stepsister at rank 3)\n",
      "grandpa is to grandma as stepfather is to mother (gold: stepmother at rank 3)\n",
      "grandpa is to grandma as stepson is to stepdaughter (gold: stepdaughter at rank 1)\n",
      "grandpa is to grandma as uncle is to grandmother (gold: aunt at rank 3)\n",
      "grandpa is to grandma as boy is to girl (gold: girl at rank 1)\n",
      "grandpa is to grandma as brother is to father (gold: sister at rank 9)\n",
      "grandpa is to grandma as brothers is to sisters (gold: sisters at rank 1)\n",
      "grandpa is to grandma as dad is to mom (gold: mom at rank 1)\n",
      "grandpa is to grandma as father is to mother (gold: mother at rank 1)\n",
      "grandpa is to grandma as grandfather is to grandmother (gold: grandmother at rank 1)\n",
      "grandson is to granddaughter as groom is to bride (gold: bride at rank 1)\n",
      "grandson is to granddaughter as he is to she (gold: she at rank 1)\n",
      "grandson is to granddaughter as his is to her (gold: her at rank 1)\n",
      "grandson is to granddaughter as husband is to wife (gold: wife at rank 1)\n",
      "grandson is to granddaughter as king is to queen (gold: queen at rank 1)\n",
      "grandson is to granddaughter as man is to woman (gold: woman at rank 1)\n",
      "grandson is to granddaughter as nephew is to niece (gold: niece at rank 1)\n",
      "grandson is to granddaughter as policeman is to policewoman (gold: policewoman at rank 1)\n",
      "grandson is to granddaughter as prince is to princess (gold: princess at rank 1)\n",
      "grandson is to granddaughter as son is to daughter (gold: daughter at rank 1)\n",
      "grandson is to granddaughter as sons is to daughters (gold: daughters at rank 1)\n",
      "grandson is to granddaughter as stepbrother is to stepsister (gold: stepsister at rank 1)\n",
      "grandson is to granddaughter as stepfather is to stepdaughter (gold: stepmother at rank 2)\n",
      "grandson is to granddaughter as stepson is to stepdaughter (gold: stepdaughter at rank 1)\n",
      "grandson is to granddaughter as uncle is to aunt (gold: aunt at rank 1)\n",
      "grandson is to granddaughter as boy is to girl (gold: girl at rank 1)\n",
      "grandson is to granddaughter as brother is to daughter (gold: sister at rank 3)\n",
      "grandson is to granddaughter as brothers is to sisters (gold: sisters at rank 1)\n",
      "grandson is to granddaughter as dad is to mom (gold: mom at rank 1)\n",
      "grandson is to granddaughter as father is to mother (gold: mother at rank 1)\n",
      "grandson is to granddaughter as grandfather is to grandmother (gold: grandmother at rank 1)\n",
      "grandson is to granddaughter as grandpa is to grandma (gold: grandma at rank 1)\n",
      "groom is to bride as he is to she (gold: she at rank 1)\n",
      "groom is to bride as his is to her (gold: her at rank 1)\n",
      "groom is to bride as husband is to wife (gold: wife at rank 1)\n",
      "groom is to bride as king is to queen (gold: queen at rank 1)\n",
      "groom is to bride as man is to woman (gold: woman at rank 1)\n",
      "groom is to bride as nephew is to niece (gold: niece at rank 1)\n",
      "groom is to bride as policeman is to soldier (gold: policewoman at rank 28)\n",
      "groom is to bride as prince is to princess (gold: princess at rank 1)\n",
      "groom is to bride as son is to father (gold: daughter at rank 2)\n",
      "groom is to bride as sons is to daughters (gold: daughters at rank 1)\n",
      "groom is to bride as stepbrother is to stepsister (gold: stepsister at rank 1)\n",
      "groom is to bride as stepfather is to mother (gold: stepmother at rank 6)\n",
      "groom is to bride as stepson is to stepdaughter (gold: stepdaughter at rank 1)\n",
      "groom is to bride as uncle is to father (gold: aunt at rank 3)\n",
      "groom is to bride as boy is to girl (gold: girl at rank 1)\n",
      "groom is to bride as brother is to father (gold: sister at rank 8)\n",
      "groom is to bride as brothers is to sons (gold: sisters at rank 2)\n",
      "groom is to bride as dad is to mom (gold: mom at rank 1)\n",
      "groom is to bride as father is to mother (gold: mother at rank 1)\n",
      "groom is to bride as grandfather is to father (gold: grandmother at rank 2)\n",
      "groom is to bride as grandpa is to grandma (gold: grandma at rank 1)\n",
      "groom is to bride as grandson is to granddaughter (gold: granddaughter at rank 1)\n",
      "he is to she as his is to her (gold: her at rank 1)\n",
      "he is to she as husband is to wife (gold: wife at rank 1)\n",
      "he is to she as king is to queen (gold: queen at rank 1)\n",
      "he is to she as man is to woman (gold: woman at rank 1)\n",
      "he is to she as nephew is to niece (gold: niece at rank 1)\n",
      "he is to she as policeman is to woman (gold: policewoman at rank 3)\n",
      "he is to she as prince is to princess (gold: princess at rank 1)\n",
      "he is to she as son is to daughter (gold: daughter at rank 1)\n",
      "he is to she as sons is to daughters (gold: daughters at rank 1)\n",
      "he is to she as stepbrother is to stepsister (gold: stepsister at rank 1)\n",
      "he is to she as stepfather is to stepdaughter (gold: stepmother at rank 2)\n",
      "he is to she as stepson is to stepdaughter (gold: stepdaughter at rank 1)\n",
      "he is to she as uncle is to aunt (gold: aunt at rank 1)\n",
      "he is to she as boy is to girl (gold: girl at rank 1)\n",
      "he is to she as brother is to daughter (gold: sister at rank 2)\n",
      "he is to she as brothers is to sisters (gold: sisters at rank 1)\n",
      "he is to she as dad is to mom (gold: mom at rank 1)\n",
      "he is to she as father is to mother (gold: mother at rank 1)\n",
      "he is to she as grandfather is to grandmother (gold: grandmother at rank 1)\n",
      "he is to she as grandpa is to grandma (gold: grandma at rank 1)\n",
      "he is to she as grandson is to granddaughter (gold: granddaughter at rank 1)\n",
      "he is to she as groom is to bride (gold: bride at rank 1)\n",
      "his is to her as husband is to wife (gold: wife at rank 1)\n",
      "his is to her as king is to queen (gold: queen at rank 1)\n",
      "his is to her as man is to woman (gold: woman at rank 1)\n",
      "his is to her as nephew is to niece (gold: niece at rank 1)\n",
      "his is to her as policeman is to woman (gold: policewoman at rank 3)\n",
      "his is to her as prince is to princess (gold: princess at rank 1)\n",
      "his is to her as son is to daughter (gold: daughter at rank 1)\n",
      "his is to her as sons is to daughters (gold: daughters at rank 1)\n",
      "his is to her as stepbrother is to stepsister (gold: stepsister at rank 1)\n",
      "his is to her as stepfather is to mother (gold: stepmother at rank 3)\n",
      "his is to her as stepson is to stepdaughter (gold: stepdaughter at rank 1)\n",
      "his is to her as uncle is to aunt (gold: aunt at rank 1)\n",
      "his is to her as boy is to girl (gold: girl at rank 1)\n",
      "his is to her as brother is to daughter (gold: sister at rank 3)\n",
      "his is to her as brothers is to sisters (gold: sisters at rank 1)\n"
     ]
    },
    {
     "name": "stdout",
     "output_type": "stream",
     "text": [
      "his is to her as dad is to mom (gold: mom at rank 1)\n",
      "his is to her as father is to mother (gold: mother at rank 1)\n",
      "his is to her as grandfather is to mother (gold: grandmother at rank 2)\n",
      "his is to her as grandpa is to grandma (gold: grandma at rank 1)\n",
      "his is to her as grandson is to granddaughter (gold: granddaughter at rank 1)\n",
      "his is to her as groom is to bride (gold: bride at rank 1)\n",
      "his is to her as he is to she (gold: she at rank 1)\n",
      "husband is to wife as king is to queen (gold: queen at rank 1)\n",
      "husband is to wife as man is to woman (gold: woman at rank 1)\n",
      "husband is to wife as nephew is to niece (gold: niece at rank 1)\n",
      "husband is to wife as policeman is to wounded (gold: policewoman at rank 11)\n",
      "husband is to wife as prince is to princess (gold: princess at rank 1)\n",
      "husband is to wife as son is to daughter (gold: daughter at rank 1)\n",
      "husband is to wife as sons is to daughters (gold: daughters at rank 1)\n",
      "husband is to wife as stepbrother is to stepsister (gold: stepsister at rank 1)\n",
      "husband is to wife as stepfather is to niece (gold: stepmother at rank 2)\n",
      "husband is to wife as stepson is to stepdaughter (gold: stepdaughter at rank 1)\n",
      "husband is to wife as uncle is to aunt (gold: aunt at rank 1)\n",
      "husband is to wife as boy is to girl (gold: girl at rank 1)\n",
      "husband is to wife as brother is to cousin (gold: sister at rank 5)\n",
      "husband is to wife as brothers is to sisters (gold: sisters at rank 1)\n",
      "husband is to wife as dad is to mom (gold: mom at rank 1)\n",
      "husband is to wife as father is to daughter (gold: mother at rank 2)\n",
      "husband is to wife as grandfather is to grandmother (gold: grandmother at rank 1)\n",
      "husband is to wife as grandpa is to grandma (gold: grandma at rank 1)\n",
      "husband is to wife as grandson is to granddaughter (gold: granddaughter at rank 1)\n",
      "husband is to wife as groom is to bride (gold: bride at rank 1)\n",
      "husband is to wife as he is to she (gold: she at rank 1)\n",
      "husband is to wife as his is to her (gold: her at rank 1)\n",
      "king is to queen as man is to woman (gold: woman at rank 1)\n",
      "king is to queen as nephew is to niece (gold: niece at rank 1)\n",
      "king is to queen as policeman is to policewoman (gold: policewoman at rank 1)\n",
      "king is to queen as prince is to princess (gold: princess at rank 1)\n",
      "king is to queen as son is to daughter (gold: daughter at rank 1)\n",
      "king is to queen as sons is to daughters (gold: daughters at rank 1)\n",
      "king is to queen as stepbrother is to stepsister (gold: stepsister at rank 1)\n",
      "king is to queen as stepfather is to stepdaughter (gold: stepmother at rank 2)\n",
      "king is to queen as stepson is to stepdaughter (gold: stepdaughter at rank 1)\n",
      "king is to queen as uncle is to aunt (gold: aunt at rank 1)\n",
      "king is to queen as boy is to girl (gold: girl at rank 1)\n",
      "king is to queen as brother is to wife (gold: sister at rank 3)\n",
      "king is to queen as brothers is to sisters (gold: sisters at rank 1)\n",
      "king is to queen as dad is to mom (gold: mom at rank 1)\n",
      "king is to queen as father is to mother (gold: mother at rank 1)\n",
      "king is to queen as grandfather is to grandmother (gold: grandmother at rank 1)\n",
      "king is to queen as grandpa is to grandma (gold: grandma at rank 1)\n",
      "king is to queen as grandson is to granddaughter (gold: granddaughter at rank 1)\n",
      "king is to queen as groom is to bride (gold: bride at rank 1)\n",
      "king is to queen as he is to she (gold: she at rank 1)\n",
      "king is to queen as his is to her (gold: her at rank 1)\n",
      "king is to queen as husband is to wife (gold: wife at rank 1)\n",
      "man is to woman as nephew is to niece (gold: niece at rank 1)\n",
      "man is to woman as policeman is to policewoman (gold: policewoman at rank 1)\n",
      "man is to woman as prince is to princess (gold: princess at rank 1)\n",
      "man is to woman as son is to daughter (gold: daughter at rank 1)\n",
      "man is to woman as sons is to daughters (gold: daughters at rank 1)\n",
      "man is to woman as stepbrother is to stepsister (gold: stepsister at rank 1)\n",
      "man is to woman as stepfather is to stepdaughter (gold: stepmother at rank 2)\n",
      "man is to woman as stepson is to stepdaughter (gold: stepdaughter at rank 1)\n",
      "man is to woman as uncle is to aunt (gold: aunt at rank 1)\n",
      "man is to woman as boy is to girl (gold: girl at rank 1)\n",
      "man is to woman as brother is to daughter (gold: sister at rank 4)\n",
      "man is to woman as brothers is to sisters (gold: sisters at rank 1)\n",
      "man is to woman as dad is to mom (gold: mom at rank 1)\n",
      "man is to woman as father is to mother (gold: mother at rank 1)\n",
      "man is to woman as grandfather is to grandmother (gold: grandmother at rank 1)\n",
      "man is to woman as grandpa is to grandma (gold: grandma at rank 1)\n",
      "man is to woman as grandson is to granddaughter (gold: granddaughter at rank 1)\n",
      "man is to woman as groom is to bride (gold: bride at rank 1)\n",
      "man is to woman as he is to she (gold: she at rank 1)\n",
      "man is to woman as his is to her (gold: her at rank 1)\n",
      "man is to woman as husband is to wife (gold: wife at rank 1)\n",
      "man is to woman as king is to queen (gold: queen at rank 1)\n",
      "nephew is to niece as policeman is to policewoman (gold: policewoman at rank 1)\n",
      "nephew is to niece as prince is to princess (gold: princess at rank 1)\n",
      "nephew is to niece as son is to daughter (gold: daughter at rank 1)\n",
      "nephew is to niece as sons is to daughters (gold: daughters at rank 1)\n",
      "nephew is to niece as stepbrother is to stepsister (gold: stepsister at rank 1)\n",
      "nephew is to niece as stepfather is to stepdaughter (gold: stepmother at rank 2)\n",
      "nephew is to niece as stepson is to stepdaughter (gold: stepdaughter at rank 1)\n",
      "nephew is to niece as uncle is to aunt (gold: aunt at rank 1)\n",
      "nephew is to niece as boy is to girl (gold: girl at rank 1)\n",
      "nephew is to niece as brother is to daughter (gold: sister at rank 4)\n",
      "nephew is to niece as brothers is to sisters (gold: sisters at rank 1)\n",
      "nephew is to niece as dad is to mom (gold: mom at rank 1)\n",
      "nephew is to niece as father is to mother (gold: mother at rank 1)\n",
      "nephew is to niece as grandfather is to grandmother (gold: grandmother at rank 1)\n",
      "nephew is to niece as grandpa is to grandma (gold: grandma at rank 1)\n",
      "nephew is to niece as grandson is to granddaughter (gold: granddaughter at rank 1)\n",
      "nephew is to niece as groom is to bride (gold: bride at rank 1)\n",
      "nephew is to niece as he is to she (gold: she at rank 1)\n",
      "nephew is to niece as his is to her (gold: her at rank 1)\n",
      "nephew is to niece as husband is to wife (gold: wife at rank 1)\n",
      "nephew is to niece as king is to queen (gold: queen at rank 1)\n",
      "nephew is to niece as man is to woman (gold: woman at rank 1)\n",
      "policeman is to policewoman as prince is to princess (gold: princess at rank 1)\n",
      "policeman is to policewoman as son is to granddaughter (gold: daughter at rank 2)\n",
      "policeman is to policewoman as sons is to daughters (gold: daughters at rank 1)\n",
      "policeman is to policewoman as stepbrother is to stepsister (gold: stepsister at rank 1)\n",
      "policeman is to policewoman as stepfather is to stepmother (gold: stepmother at rank 1)\n",
      "policeman is to policewoman as stepson is to stepbrother (gold: stepdaughter at rank 2)\n",
      "policeman is to policewoman as uncle is to aunt (gold: aunt at rank 1)\n",
      "policeman is to policewoman as boy is to girl (gold: girl at rank 1)\n",
      "policeman is to policewoman as brother is to niece (gold: sister at rank 14)\n",
      "policeman is to policewoman as brothers is to sisters (gold: sisters at rank 1)\n",
      "policeman is to policewoman as dad is to mom (gold: mom at rank 1)\n",
      "policeman is to policewoman as father is to granddaughter (gold: mother at rank 5)\n",
      "policeman is to policewoman as grandfather is to granddaughter (gold: grandmother at rank 2)\n",
      "policeman is to policewoman as grandpa is to grandma (gold: grandma at rank 1)\n",
      "policeman is to policewoman as grandson is to granddaughter (gold: granddaughter at rank 1)\n",
      "policeman is to policewoman as groom is to bride (gold: bride at rank 1)\n",
      "policeman is to policewoman as he is to she (gold: she at rank 1)\n",
      "policeman is to policewoman as his is to her (gold: her at rank 1)\n",
      "policeman is to policewoman as husband is to wife (gold: wife at rank 1)\n",
      "policeman is to policewoman as king is to queen (gold: queen at rank 1)\n",
      "policeman is to policewoman as man is to woman (gold: woman at rank 1)\n",
      "policeman is to policewoman as nephew is to granddaughter (gold: niece at rank 2)\n",
      "prince is to princess as son is to daughter (gold: daughter at rank 1)\n"
     ]
    },
    {
     "name": "stdout",
     "output_type": "stream",
     "text": [
      "prince is to princess as sons is to daughters (gold: daughters at rank 1)\n",
      "prince is to princess as stepbrother is to stepsister (gold: stepsister at rank 1)\n",
      "prince is to princess as stepfather is to stepmother (gold: stepmother at rank 1)\n",
      "prince is to princess as stepson is to stepdaughter (gold: stepdaughter at rank 1)\n",
      "prince is to princess as uncle is to aunt (gold: aunt at rank 1)\n",
      "prince is to princess as boy is to girl (gold: girl at rank 1)\n",
      "prince is to princess as brother is to sister (gold: sister at rank 1)\n",
      "prince is to princess as brothers is to sisters (gold: sisters at rank 1)\n",
      "prince is to princess as dad is to mom (gold: mom at rank 1)\n",
      "prince is to princess as father is to mother (gold: mother at rank 1)\n",
      "prince is to princess as grandfather is to grandmother (gold: grandmother at rank 1)\n",
      "prince is to princess as grandpa is to grandma (gold: grandma at rank 1)\n",
      "prince is to princess as grandson is to granddaughter (gold: granddaughter at rank 1)\n",
      "prince is to princess as groom is to bride (gold: bride at rank 1)\n",
      "prince is to princess as he is to she (gold: she at rank 1)\n",
      "prince is to princess as his is to her (gold: her at rank 1)\n",
      "prince is to princess as husband is to wife (gold: wife at rank 1)\n",
      "prince is to princess as king is to queen (gold: queen at rank 1)\n",
      "prince is to princess as man is to woman (gold: woman at rank 1)\n",
      "prince is to princess as nephew is to niece (gold: niece at rank 1)\n",
      "prince is to princess as policeman is to woman (gold: policewoman at rank 4)\n",
      "son is to daughter as sons is to daughters (gold: daughters at rank 1)\n",
      "son is to daughter as stepbrother is to stepsister (gold: stepsister at rank 1)\n",
      "son is to daughter as stepfather is to stepdaughter (gold: stepmother at rank 2)\n",
      "son is to daughter as stepson is to stepdaughter (gold: stepdaughter at rank 1)\n",
      "son is to daughter as uncle is to aunt (gold: aunt at rank 1)\n",
      "son is to daughter as boy is to girl (gold: girl at rank 1)\n",
      "son is to daughter as brother is to wife (gold: sister at rank 2)\n",
      "son is to daughter as brothers is to sisters (gold: sisters at rank 1)\n",
      "son is to daughter as dad is to mom (gold: mom at rank 1)\n",
      "son is to daughter as father is to mother (gold: mother at rank 1)\n",
      "son is to daughter as grandfather is to grandmother (gold: grandmother at rank 1)\n",
      "son is to daughter as grandpa is to grandma (gold: grandma at rank 1)\n",
      "son is to daughter as grandson is to granddaughter (gold: granddaughter at rank 1)\n",
      "son is to daughter as groom is to bride (gold: bride at rank 1)\n",
      "son is to daughter as he is to she (gold: she at rank 1)\n",
      "son is to daughter as his is to her (gold: her at rank 1)\n",
      "son is to daughter as husband is to wife (gold: wife at rank 1)\n",
      "son is to daughter as king is to queen (gold: queen at rank 1)\n",
      "son is to daughter as man is to woman (gold: woman at rank 1)\n",
      "son is to daughter as nephew is to niece (gold: niece at rank 1)\n",
      "son is to daughter as policeman is to woman (gold: policewoman at rank 2)\n",
      "son is to daughter as prince is to princess (gold: princess at rank 1)\n",
      "sons is to daughters as stepbrother is to stepsister (gold: stepsister at rank 1)\n",
      "sons is to daughters as stepfather is to stepdaughter (gold: stepmother at rank 4)\n",
      "sons is to daughters as stepson is to stepdaughter (gold: stepdaughter at rank 1)\n",
      "sons is to daughters as uncle is to aunt (gold: aunt at rank 1)\n",
      "sons is to daughters as boy is to girl (gold: girl at rank 1)\n",
      "sons is to daughters as brother is to daughter (gold: sister at rank 4)\n",
      "sons is to daughters as brothers is to sisters (gold: sisters at rank 1)\n",
      "sons is to daughters as dad is to mom (gold: mom at rank 1)\n",
      "sons is to daughters as father is to mother (gold: mother at rank 1)\n",
      "sons is to daughters as grandfather is to grandmother (gold: grandmother at rank 1)\n",
      "sons is to daughters as grandpa is to grandma (gold: grandma at rank 1)\n",
      "sons is to daughters as grandson is to granddaughter (gold: granddaughter at rank 1)\n",
      "sons is to daughters as groom is to bride (gold: bride at rank 1)\n",
      "sons is to daughters as he is to she (gold: she at rank 1)\n",
      "sons is to daughters as his is to her (gold: her at rank 1)\n",
      "sons is to daughters as husband is to wife (gold: wife at rank 1)\n",
      "sons is to daughters as king is to queen (gold: queen at rank 1)\n",
      "sons is to daughters as man is to woman (gold: woman at rank 1)\n",
      "sons is to daughters as nephew is to niece (gold: niece at rank 1)\n",
      "sons is to daughters as policeman is to woman (gold: policewoman at rank 2)\n",
      "sons is to daughters as prince is to princess (gold: princess at rank 1)\n",
      "sons is to daughters as son is to daughter (gold: daughter at rank 1)\n",
      "stepbrother is to stepsister as stepfather is to stepmother (gold: stepmother at rank 1)\n",
      "stepbrother is to stepsister as stepson is to stepdaughter (gold: stepdaughter at rank 1)\n",
      "stepbrother is to stepsister as uncle is to aunt (gold: aunt at rank 1)\n",
      "stepbrother is to stepsister as boy is to girl (gold: girl at rank 1)\n",
      "stepbrother is to stepsister as brother is to son (gold: sister at rank 5)\n",
      "stepbrother is to stepsister as brothers is to sisters (gold: sisters at rank 1)\n",
      "stepbrother is to stepsister as dad is to mom (gold: mom at rank 1)\n",
      "stepbrother is to stepsister as father is to mother (gold: mother at rank 1)\n",
      "stepbrother is to stepsister as grandfather is to grandmother (gold: grandmother at rank 1)\n",
      "stepbrother is to stepsister as grandpa is to grandma (gold: grandma at rank 1)\n",
      "stepbrother is to stepsister as grandson is to granddaughter (gold: granddaughter at rank 1)\n",
      "stepbrother is to stepsister as groom is to bride (gold: bride at rank 1)\n",
      "stepbrother is to stepsister as he is to she (gold: she at rank 1)\n",
      "stepbrother is to stepsister as his is to her (gold: her at rank 1)\n",
      "stepbrother is to stepsister as husband is to wife (gold: wife at rank 1)\n",
      "stepbrother is to stepsister as king is to queen (gold: queen at rank 1)\n",
      "stepbrother is to stepsister as man is to woman (gold: woman at rank 1)\n",
      "stepbrother is to stepsister as nephew is to cousin (gold: niece at rank 2)\n",
      "stepbrother is to stepsister as policeman is to police (gold: policewoman at rank 15)\n",
      "stepbrother is to stepsister as prince is to princess (gold: princess at rank 1)\n",
      "stepbrother is to stepsister as son is to daughter (gold: daughter at rank 1)\n",
      "stepbrother is to stepsister as sons is to daughters (gold: daughters at rank 1)\n",
      "stepfather is to stepmother as stepson is to stepdaughter (gold: stepdaughter at rank 1)\n",
      "stepfather is to stepmother as uncle is to aunt (gold: aunt at rank 1)\n",
      "stepfather is to stepmother as boy is to girl (gold: girl at rank 1)\n",
      "stepfather is to stepmother as brother is to cousin (gold: sister at rank 10)\n",
      "stepfather is to stepmother as brothers is to sons (gold: sisters at rank 2)\n",
      "stepfather is to stepmother as dad is to mom (gold: mom at rank 1)\n",
      "stepfather is to stepmother as father is to brother (gold: mother at rank 2)\n",
      "stepfather is to stepmother as grandfather is to granddaughter (gold: grandmother at rank 2)\n",
      "stepfather is to stepmother as grandpa is to grandma (gold: grandma at rank 1)\n",
      "stepfather is to stepmother as grandson is to nephew (gold: granddaughter at rank 2)\n",
      "stepfather is to stepmother as groom is to bride (gold: bride at rank 1)\n",
      "stepfather is to stepmother as he is to she (gold: she at rank 1)\n",
      "stepfather is to stepmother as his is to her (gold: her at rank 1)\n",
      "stepfather is to stepmother as husband is to wife (gold: wife at rank 1)\n",
      "stepfather is to stepmother as king is to queen (gold: queen at rank 1)\n",
      "stepfather is to stepmother as man is to woman (gold: woman at rank 1)\n",
      "stepfather is to stepmother as nephew is to niece (gold: niece at rank 1)\n",
      "stepfather is to stepmother as policeman is to wounded (gold: policewoman at rank 8)\n",
      "stepfather is to stepmother as prince is to princess (gold: princess at rank 1)\n",
      "stepfather is to stepmother as son is to brother (gold: daughter at rank 4)\n",
      "stepfather is to stepmother as sons is to daughters (gold: daughters at rank 1)\n",
      "stepfather is to stepmother as stepbrother is to stepsister (gold: stepsister at rank 1)\n",
      "stepson is to stepdaughter as uncle is to aunt (gold: aunt at rank 1)\n",
      "stepson is to stepdaughter as boy is to girl (gold: girl at rank 1)\n",
      "stepson is to stepdaughter as brother is to daughter (gold: sister at rank 7)\n",
      "stepson is to stepdaughter as brothers is to sisters (gold: sisters at rank 1)\n"
     ]
    },
    {
     "name": "stdout",
     "output_type": "stream",
     "text": [
      "stepson is to stepdaughter as dad is to mom (gold: mom at rank 1)\n",
      "stepson is to stepdaughter as father is to mother (gold: mother at rank 1)\n",
      "stepson is to stepdaughter as grandfather is to grandmother (gold: grandmother at rank 1)\n",
      "stepson is to stepdaughter as grandpa is to grandma (gold: grandma at rank 1)\n",
      "stepson is to stepdaughter as grandson is to granddaughter (gold: granddaughter at rank 1)\n",
      "stepson is to stepdaughter as groom is to bride (gold: bride at rank 1)\n",
      "stepson is to stepdaughter as he is to she (gold: she at rank 1)\n",
      "stepson is to stepdaughter as his is to her (gold: her at rank 1)\n",
      "stepson is to stepdaughter as husband is to wife (gold: wife at rank 1)\n",
      "stepson is to stepdaughter as king is to queen (gold: queen at rank 1)\n",
      "stepson is to stepdaughter as man is to woman (gold: woman at rank 1)\n",
      "stepson is to stepdaughter as nephew is to niece (gold: niece at rank 1)\n",
      "stepson is to stepdaughter as policeman is to wounded (gold: policewoman at rank 5)\n",
      "stepson is to stepdaughter as prince is to princess (gold: princess at rank 1)\n",
      "stepson is to stepdaughter as son is to daughter (gold: daughter at rank 1)\n",
      "stepson is to stepdaughter as sons is to daughters (gold: daughters at rank 1)\n",
      "stepson is to stepdaughter as stepbrother is to stepsister (gold: stepsister at rank 1)\n",
      "stepson is to stepdaughter as stepfather is to stepmother (gold: stepmother at rank 1)\n",
      "uncle is to aunt as boy is to girl (gold: girl at rank 1)\n",
      "uncle is to aunt as brother is to wife (gold: sister at rank 4)\n",
      "uncle is to aunt as brothers is to sisters (gold: sisters at rank 1)\n",
      "uncle is to aunt as dad is to mom (gold: mom at rank 1)\n",
      "uncle is to aunt as father is to mother (gold: mother at rank 1)\n",
      "uncle is to aunt as grandfather is to grandmother (gold: grandmother at rank 1)\n",
      "uncle is to aunt as grandpa is to grandma (gold: grandma at rank 1)\n",
      "uncle is to aunt as grandson is to granddaughter (gold: granddaughter at rank 1)\n",
      "uncle is to aunt as groom is to bride (gold: bride at rank 1)\n",
      "uncle is to aunt as he is to she (gold: she at rank 1)\n",
      "uncle is to aunt as his is to her (gold: her at rank 1)\n",
      "uncle is to aunt as husband is to wife (gold: wife at rank 1)\n",
      "uncle is to aunt as king is to queen (gold: queen at rank 1)\n",
      "uncle is to aunt as man is to woman (gold: woman at rank 1)\n",
      "uncle is to aunt as nephew is to niece (gold: niece at rank 1)\n",
      "uncle is to aunt as policeman is to policewoman (gold: policewoman at rank 1)\n",
      "uncle is to aunt as prince is to princess (gold: princess at rank 1)\n",
      "uncle is to aunt as son is to daughter (gold: daughter at rank 1)\n",
      "uncle is to aunt as sons is to daughters (gold: daughters at rank 1)\n",
      "uncle is to aunt as stepbrother is to stepsister (gold: stepsister at rank 1)\n",
      "uncle is to aunt as stepfather is to stepdaughter (gold: stepmother at rank 2)\n",
      "uncle is to aunt as stepson is to stepdaughter (gold: stepdaughter at rank 1)\n"
     ]
    },
    {
     "data": {
      "text/plain": [
       "(0.9025649790815626, defaultdict(int, {False: 76, True: 430}))"
      ]
     },
     "execution_count": 100,
     "metadata": {},
     "output_type": "execute_result"
    }
   ],
   "source": [
    "analogy_evaluation(emb_df.loc[giga20.index], src_filename='family.txt', verbose=True)"
   ]
  },
  {
   "cell_type": "code",
   "execution_count": 101,
   "metadata": {},
   "outputs": [
    {
     "name": "stderr",
     "output_type": "stream",
     "text": [
      "/home/donlee/Stanford/cs224u/project/.env/lib/python3.5/site-packages/ipykernel_launcher.py:1: FutureWarning: \n",
      "Passing list-likes to .loc or [] with any missing label will raise\n",
      "KeyError in the future, you can use .reindex() as an alternative.\n",
      "\n",
      "See the documentation here:\n",
      "https://pandas.pydata.org/pandas-docs/stable/indexing.html#deprecate-loc-reindex-listlike\n",
      "  \"\"\"Entry point for launching an IPython kernel.\n"
     ]
    },
    {
     "data": {
      "text/plain": [
       "(0.4355626943709446, defaultdict(int, {False: 666, True: 326}))"
      ]
     },
     "execution_count": 101,
     "metadata": {},
     "output_type": "execute_result"
    }
   ],
   "source": [
    "analogy_evaluation(emb_df.loc[giga20.index], src_filename='gram1-adjective-to-adverb.txt', verbose=False)"
   ]
  },
  {
   "cell_type": "code",
   "execution_count": 102,
   "metadata": {},
   "outputs": [
    {
     "name": "stderr",
     "output_type": "stream",
     "text": [
      "/home/donlee/Stanford/cs224u/project/.env/lib/python3.5/site-packages/ipykernel_launcher.py:1: FutureWarning: \n",
      "Passing list-likes to .loc or [] with any missing label will raise\n",
      "KeyError in the future, you can use .reindex() as an alternative.\n",
      "\n",
      "See the documentation here:\n",
      "https://pandas.pydata.org/pandas-docs/stable/indexing.html#deprecate-loc-reindex-listlike\n",
      "  \"\"\"Entry point for launching an IPython kernel.\n"
     ]
    },
    {
     "data": {
      "text/plain": [
       "(0.474233438099138, defaultdict(int, {False: 504, True: 308}))"
      ]
     },
     "execution_count": 102,
     "metadata": {},
     "output_type": "execute_result"
    }
   ],
   "source": [
    "analogy_evaluation(emb_df.loc[giga20.index], src_filename='gram2-opposite.txt', verbose=False)"
   ]
  },
  {
   "cell_type": "code",
   "execution_count": 144,
   "metadata": {},
   "outputs": [
    {
     "name": "stderr",
     "output_type": "stream",
     "text": [
      "/home/donlee/Stanford/cs224u/project/.env/lib/python3.5/site-packages/ipykernel_launcher.py:1: FutureWarning: \n",
      "Passing list-likes to .loc or [] with any missing label will raise\n",
      "KeyError in the future, you can use .reindex() as an alternative.\n",
      "\n",
      "See the documentation here:\n",
      "https://pandas.pydata.org/pandas-docs/stable/indexing.html#deprecate-loc-reindex-listlike\n",
      "  \"\"\"Entry point for launching an IPython kernel.\n"
     ]
    },
    {
     "data": {
      "text/plain": [
       "(0.8872043722165738, defaultdict(int, {False: 216, True: 1116}))"
      ]
     },
     "execution_count": 144,
     "metadata": {},
     "output_type": "execute_result"
    }
   ],
   "source": [
    "analogy_evaluation(emb_df.loc[giga20.index], src_filename='gram3-comparative.txt', verbose=False)"
   ]
  },
  {
   "cell_type": "code",
   "execution_count": 135,
   "metadata": {},
   "outputs": [
    {
     "name": "stderr",
     "output_type": "stream",
     "text": [
      "/home/donlee/Stanford/cs224u/project/.env/lib/python3.5/site-packages/ipykernel_launcher.py:1: FutureWarning: \n",
      "Passing list-likes to .loc or [] with any missing label will raise\n",
      "KeyError in the future, you can use .reindex() as an alternative.\n",
      "\n",
      "See the documentation here:\n",
      "https://pandas.pydata.org/pandas-docs/stable/indexing.html#deprecate-loc-reindex-listlike\n",
      "  \"\"\"Entry point for launching an IPython kernel.\n"
     ]
    },
    {
     "data": {
      "text/plain": [
       "(0.8611142435397475, defaultdict(int, {False: 204, True: 852}))"
      ]
     },
     "execution_count": 135,
     "metadata": {},
     "output_type": "execute_result"
    }
   ],
   "source": [
    "analogy_evaluation(emb_df.loc[giga20.index], src_filename='gram5-present-participle.txt', verbose=False)"
   ]
  },
  {
   "cell_type": "code",
   "execution_count": 143,
   "metadata": {},
   "outputs": [
    {
     "name": "stderr",
     "output_type": "stream",
     "text": [
      "/home/donlee/Stanford/cs224u/project/.env/lib/python3.5/site-packages/ipykernel_launcher.py:1: FutureWarning: \n",
      "Passing list-likes to .loc or [] with any missing label will raise\n",
      "KeyError in the future, you can use .reindex() as an alternative.\n",
      "\n",
      "See the documentation here:\n",
      "https://pandas.pydata.org/pandas-docs/stable/indexing.html#deprecate-loc-reindex-listlike\n",
      "  \"\"\"Entry point for launching an IPython kernel.\n"
     ]
    },
    {
     "data": {
      "text/plain": [
       "(0.8716714306575464, defaultdict(int, {False: 255, True: 1077}))"
      ]
     },
     "execution_count": 143,
     "metadata": {},
     "output_type": "execute_result"
    }
   ],
   "source": [
    "analogy_evaluation(emb_df.loc[giga20.index], src_filename='gram8-plural.txt', verbose=False)"
   ]
  },
  {
   "cell_type": "code",
   "execution_count": 141,
   "metadata": {},
   "outputs": [
    {
     "name": "stderr",
     "output_type": "stream",
     "text": [
      "/home/donlee/Stanford/cs224u/project/.env/lib/python3.5/site-packages/ipykernel_launcher.py:1: FutureWarning: \n",
      "Passing list-likes to .loc or [] with any missing label will raise\n",
      "KeyError in the future, you can use .reindex() as an alternative.\n",
      "\n",
      "See the documentation here:\n",
      "https://pandas.pydata.org/pandas-docs/stable/indexing.html#deprecate-loc-reindex-listlike\n",
      "  \"\"\"Entry point for launching an IPython kernel.\n"
     ]
    },
    {
     "data": {
      "text/plain": [
       "(0.95081689665599, defaultdict(int, {False: 285, True: 4239}))"
      ]
     },
     "execution_count": 141,
     "metadata": {},
     "output_type": "execute_result"
    }
   ],
   "source": [
    "analogy_evaluation(emb_df.loc[giga20.index], src_filename='capital-world.txt', verbose=False)"
   ]
  },
  {
   "cell_type": "markdown",
   "metadata": {},
   "source": [
    "## 4. t-SNE Visualization"
   ]
  },
  {
   "cell_type": "code",
   "execution_count": null,
   "metadata": {},
   "outputs": [],
   "source": [
    "vsm.tsne_viz(emb_df.loc[giga20.index])"
   ]
  },
  {
   "cell_type": "code",
   "execution_count": 191,
   "metadata": {},
   "outputs": [
    {
     "data": {
      "text/plain": [
       "4702"
      ]
     },
     "execution_count": 191,
     "metadata": {},
     "output_type": "execute_result"
    }
   ],
   "source": [
    "len(set(giga20.index) & set(glove_df.index) & set(emb_df.index))"
   ]
  },
  {
   "cell_type": "markdown",
   "metadata": {},
   "source": [
    "## Reference\n",
    "### Torchtext\n",
    "- [Torchtext documentation](http://torchtext.readthedocs.io/en/latest/index.html)\n",
    "- [Torchtext tutorial](http://anie.me/On-Torchtext/)\n",
    "- [Sentiment analysis using torchtext](https://medium.com/@sonicboom8/sentiment-analysis-torchtext-55fb57b1fab8)\n",
    "\n",
    "### Others\n",
    "- [Python3 multi-threading](https://www.ploggingdev.com/2017/01/multiprocessing-and-multithreading-in-python-3/)"
   ]
  }
 ],
 "metadata": {
  "kernelspec": {
   "display_name": "cs224u",
   "language": "python",
   "name": "cs224u"
  },
  "language_info": {
   "codemirror_mode": {
    "name": "ipython",
    "version": 3
   },
   "file_extension": ".py",
   "mimetype": "text/x-python",
   "name": "python",
   "nbconvert_exporter": "python",
   "pygments_lexer": "ipython3",
   "version": "3.5.2"
  }
 },
 "nbformat": 4,
 "nbformat_minor": 2
}
